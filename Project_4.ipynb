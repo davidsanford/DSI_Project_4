{
 "cells": [
  {
   "cell_type": "markdown",
   "metadata": {
    "focus": false,
    "id": "04563b69-f7b6-466f-9d65-fc62c9ddee6a"
   },
   "source": [
    "# Predicting Salaries in the Data Science Field Using Logistic Regression"
   ]
  },
  {
   "cell_type": "markdown",
   "metadata": {
    "focus": false,
    "id": "243e949e-2742-40af-872e-fec475fd306c"
   },
   "source": [
    "In this project, the goal is to accurately predict whether the salaries for a set of job positions in the data science field are high or low based upon the location, job title, and job summary.  The input data for this exercise is entirely textual and relatively small, making a numerical linear regression to predict salaries impractical.  However, using logistic regression to predict a binary prediction of high or low salaries is still a reasonable goal.\n",
    "\n",
    "In the exercise, I will apply logistic regression using the location as a dummy variable, along with binary variables for the presence of individual words or word pairs in the job titles and summaries.  I will fit the data set with a logistic regression, both with and without regularization applied.  I will begin with the simplest model of only location, and increase complexity in terms of the number of words tested for inclusion in the summary and title columns."
   ]
  },
  {
   "cell_type": "markdown",
   "metadata": {},
   "source": [
    "## Initial Data Parsing"
   ]
  },
  {
   "cell_type": "code",
   "execution_count": 1,
   "metadata": {
    "collapsed": false,
    "focus": false,
    "id": "588f9845-6143-4bcc-bfd1-85d45b79303d"
   },
   "outputs": [],
   "source": [
    "import numpy as np\n",
    "import pandas as pd\n",
    "import sklearn\n",
    "from sklearn.model_selection import train_test_split\n",
    "from sklearn.model_selection import cross_val_score\n",
    "import statsmodels.api as sm\n",
    "from sklearn.linear_model import LogisticRegression\n",
    "from sklearn.linear_model import LogisticRegressionCV\n",
    "\n",
    "import matplotlib.pyplot as plt\n",
    "import seaborn as sns\n",
    "%matplotlib inline"
   ]
  },
  {
   "cell_type": "markdown",
   "metadata": {},
   "source": [
    "#### Data Set Summary\n",
    "\n",
    "The data set for tis exercise contains 413 columns, though only 406 have usable values in the \"parsed_salary\" column.  The company and salary columns will be ignored throughout this analysis -- the salary column has been pre-parsed into the \"parsed_salary\" column, while the company column has too many unique values to be useful (see the histogram below).  I also drop the small number of entries with null values in the \"parsed_salary\" column."
   ]
  },
  {
   "cell_type": "code",
   "execution_count": 2,
   "metadata": {
    "collapsed": false
   },
   "outputs": [],
   "source": [
    "jobs = pd.read_csv(\"assets/indeed-scraped-job-postings.csv\")"
   ]
  },
  {
   "cell_type": "code",
   "execution_count": 3,
   "metadata": {
    "collapsed": false
   },
   "outputs": [
    {
     "name": "stdout",
     "output_type": "stream",
     "text": [
      "<class 'pandas.core.frame.DataFrame'>\n",
      "RangeIndex: 413 entries, 0 to 412\n",
      "Data columns (total 6 columns):\n",
      "city             413 non-null object\n",
      "company          413 non-null object\n",
      "salary           413 non-null object\n",
      "summary          413 non-null object\n",
      "title            413 non-null object\n",
      "parsed_salary    406 non-null float64\n",
      "dtypes: float64(1), object(5)\n",
      "memory usage: 19.4+ KB\n",
      "None\n",
      "       parsed_salary\n",
      "count     406.000000\n",
      "mean   107762.695813\n",
      "std     48931.367632\n",
      "min     10000.000000\n",
      "25%     70000.000000\n",
      "50%    100000.000000\n",
      "75%    142164.500000\n",
      "max    300000.000000\n"
     ]
    },
    {
     "data": {
      "text/html": [
       "<div>\n",
       "<table border=\"1\" class=\"dataframe\">\n",
       "  <thead>\n",
       "    <tr style=\"text-align: right;\">\n",
       "      <th></th>\n",
       "      <th>city</th>\n",
       "      <th>company</th>\n",
       "      <th>salary</th>\n",
       "      <th>summary</th>\n",
       "      <th>title</th>\n",
       "      <th>parsed_salary</th>\n",
       "    </tr>\n",
       "  </thead>\n",
       "  <tbody>\n",
       "    <tr>\n",
       "      <th>0</th>\n",
       "      <td>Denver</td>\n",
       "      <td>Department Of The Interior</td>\n",
       "      <td>$76,341 - $99,243 a year</td>\n",
       "      <td>Would you like to join the more than 10,000 sc...</td>\n",
       "      <td>Statistician, GS-1350-12 (DEU-PERM-DS)</td>\n",
       "      <td>87792.0</td>\n",
       "    </tr>\n",
       "    <tr>\n",
       "      <th>1</th>\n",
       "      <td>Denver</td>\n",
       "      <td>Department Of The Interior</td>\n",
       "      <td>$71,012 - $99,243 a year</td>\n",
       "      <td>Investigate potential uses of geospatial data ...</td>\n",
       "      <td>Interdisciplinary Cartographer/Geographer - GS...</td>\n",
       "      <td>85127.5</td>\n",
       "    </tr>\n",
       "    <tr>\n",
       "      <th>2</th>\n",
       "      <td>Denver</td>\n",
       "      <td>Mental Health Center of Denver</td>\n",
       "      <td>$70,000 - $80,000 a year</td>\n",
       "      <td>Advise the Data Developer with regard to creat...</td>\n",
       "      <td>Financial Data Scientist</td>\n",
       "      <td>75000.0</td>\n",
       "    </tr>\n",
       "    <tr>\n",
       "      <th>3</th>\n",
       "      <td>Denver</td>\n",
       "      <td>Denver Public Schools</td>\n",
       "      <td>$62,712 - $75,255 a year</td>\n",
       "      <td>Portal managers on student outcome data report...</td>\n",
       "      <td>SENIOR RESEARCH ANALYST</td>\n",
       "      <td>68983.5</td>\n",
       "    </tr>\n",
       "    <tr>\n",
       "      <th>4</th>\n",
       "      <td>Denver</td>\n",
       "      <td>University of Colorado</td>\n",
       "      <td>$25,000 - $29,000 a year</td>\n",
       "      <td>Experience entering and manipulating data in a...</td>\n",
       "      <td>Animal Care I</td>\n",
       "      <td>27000.0</td>\n",
       "    </tr>\n",
       "  </tbody>\n",
       "</table>\n",
       "</div>"
      ],
      "text/plain": [
       "     city                         company                    salary  \\\n",
       "0  Denver      Department Of The Interior  $76,341 - $99,243 a year   \n",
       "1  Denver      Department Of The Interior  $71,012 - $99,243 a year   \n",
       "2  Denver  Mental Health Center of Denver  $70,000 - $80,000 a year   \n",
       "3  Denver           Denver Public Schools  $62,712 - $75,255 a year   \n",
       "4  Denver          University of Colorado  $25,000 - $29,000 a year   \n",
       "\n",
       "                                             summary  \\\n",
       "0  Would you like to join the more than 10,000 sc...   \n",
       "1  Investigate potential uses of geospatial data ...   \n",
       "2  Advise the Data Developer with regard to creat...   \n",
       "3  Portal managers on student outcome data report...   \n",
       "4  Experience entering and manipulating data in a...   \n",
       "\n",
       "                                               title  parsed_salary  \n",
       "0             Statistician, GS-1350-12 (DEU-PERM-DS)        87792.0  \n",
       "1  Interdisciplinary Cartographer/Geographer - GS...        85127.5  \n",
       "2                           Financial Data Scientist        75000.0  \n",
       "3                            SENIOR RESEARCH ANALYST        68983.5  \n",
       "4                                      Animal Care I        27000.0  "
      ]
     },
     "execution_count": 3,
     "metadata": {},
     "output_type": "execute_result"
    }
   ],
   "source": [
    "print jobs.info()\n",
    "print jobs.describe()\n",
    "jobs.head()"
   ]
  },
  {
   "cell_type": "code",
   "execution_count": 4,
   "metadata": {
    "collapsed": false
   },
   "outputs": [
    {
     "data": {
      "text/plain": [
       "[]"
      ]
     },
     "execution_count": 4,
     "metadata": {},
     "output_type": "execute_result"
    },
    {
     "data": {
      "image/png": "[encoded data removed]",
      "text/plain": [
       "<matplotlib.figure.Figure at 0x1107855d0>"
      ]
     },
     "metadata": {},
     "output_type": "display_data"
    }
   ],
   "source": [
    "plt.hist(jobs.groupby([\"company\"]).agg(\"count\")[\"city\"])\n",
    "plt.title(\"Frequency of Companies in Sample\")\n",
    "plt.xlabel(\"Number of Entries\")\n",
    "plt.ylabel(\"Frequency\")\n",
    "plt.plot()"
   ]
  },
  {
   "cell_type": "code",
   "execution_count": 5,
   "metadata": {
    "collapsed": false
   },
   "outputs": [],
   "source": [
    "jobs.dropna(inplace=True)"
   ]
  },
  {
   "cell_type": "markdown",
   "metadata": {
    "focus": false,
    "id": "c7631f51-07f2-4c79-a093-3e9bc7849a48"
   },
   "source": [
    "#### Definition of Classes\n",
    "\n",
    "Here I will consider only the simplest case of two classes for the salary, separated into roughly two equal sizes.  The mean and median of salaries in the data set are given below; the median is exactly $100K, while the mean is only slighly above.  The boxplot of salaries indicates that there is a bit longer tail towards larger salaries, but generaly the classes of salaries above and below the median are fairly broad.  As such, I will use the median value as the dividing line between high and low salaries, with high and low salaries indicated by \"1\" and \"0\" respectively in the new \"high_low\" column of the data set."
   ]
  },
  {
   "cell_type": "code",
   "execution_count": 6,
   "metadata": {
    "collapsed": false,
    "focus": false,
    "id": "c20d2498-151c-44c3-a453-3a333c79a0ac"
   },
   "outputs": [
    {
     "name": "stdout",
     "output_type": "stream",
     "text": [
      "Mean of parsed salaries: 107762.695813\n",
      "Median of parsed salaries: 100000.0\n"
     ]
    },
    {
     "data": {
      "text/plain": [
       "<matplotlib.axes._subplots.AxesSubplot at 0x110b1bc50>"
      ]
     },
     "execution_count": 6,
     "metadata": {},
     "output_type": "execute_result"
    },
    {
     "data": {
      "image/png": "[encoded data removed]",
      "text/plain": [
       "<matplotlib.figure.Figure at 0x104dbd0d0>"
      ]
     },
     "metadata": {},
     "output_type": "display_data"
    }
   ],
   "source": [
    "print \"Mean of parsed salaries:\",jobs[\"parsed_salary\"].mean()\n",
    "print \"Median of parsed salaries:\",jobs[\"parsed_salary\"].median()\n",
    "sns.boxplot(jobs[\"parsed_salary\"])"
   ]
  },
  {
   "cell_type": "code",
   "execution_count": 7,
   "metadata": {
    "collapsed": false
   },
   "outputs": [],
   "source": [
    "jobs[\"high_low\"] = jobs[\"parsed_salary\"].apply(lambda x: int(x > jobs[\"parsed_salary\"].median()))"
   ]
  },
  {
   "cell_type": "markdown",
   "metadata": {
    "focus": false,
    "id": "a7afb2c0-d41e-4779-8216-91cd8dd4473f"
   },
   "source": [
    "#### Baseline Accuracy\n",
    "\n",
    "Since this is a simple two-class problem, the baseline accuracy is given by the larger of the two classes.  This value is slighly above 50% because multiple entries lie precisely on the median dividing line."
   ]
  },
  {
   "cell_type": "code",
   "execution_count": 8,
   "metadata": {
    "collapsed": false,
    "focus": false,
    "id": "87a17d3d-b7f4-4747-9f75-f9af1d18a174"
   },
   "outputs": [
    {
     "name": "stdout",
     "output_type": "stream",
     "text": [
      "The baseline accuracy is given by predicting all results to be in the most prominent class.\n",
      "In this case it is given by: 0.512315270936\n"
     ]
    }
   ],
   "source": [
    "class_sizes = list(jobs[jobs[\"parsed_salary\"].isnull() == False].groupby(\"high_low\").agg('count')[\"parsed_salary\"])\n",
    "baseline_accuracy = max(class_sizes) * 1.0 / sum(class_sizes)\n",
    "print \"The baseline accuracy is given by predicting all results to be in the most prominent class.\\n\\\n",
    "In this case it is given by:\",baseline_accuracy"
   ]
  },
  {
   "cell_type": "markdown",
   "metadata": {},
   "source": [
    "## Logistic Regression using Statsmodels"
   ]
  },
  {
   "cell_type": "markdown",
   "metadata": {
    "focus": false,
    "id": "4fb29de2-5b98-474c-a4ad-5170b72b9aea"
   },
   "source": [
    "#### Initial Regression\n",
    "\n",
    "The initial regression uses only the location data, separated out as dummy variables.  It provides an accuracy of 67% on the test set, which exceeds the baseline accuracy but does not provide a particularly good classification rate.  \n",
    "\n",
    "The coefficients for this model do, however, provide a rough indication of the relative likelihood of high salaries in different job markets.  While the precise values of the coefficients produced by the logistic regression routine is not easy to disentangle, their ordering from most negative to most positive indicates the ordering of probabilities of jobs in each location being in the high salary bracket."
   ]
  },
  {
   "cell_type": "code",
   "execution_count": 9,
   "metadata": {
    "collapsed": false
   },
   "outputs": [
    {
     "name": "stdout",
     "output_type": "stream",
     "text": [
      "Warning: Maximum number of iterations has been exceeded.\n",
      "         Current function value: 0.588095\n",
      "         Iterations: 35\n"
     ]
    },
    {
     "name": "stderr",
     "output_type": "stream",
     "text": [
      "/Users/dsanford/anaconda/lib/python2.7/site-packages/statsmodels/base/model.py:466: ConvergenceWarning: Maximum Likelihood optimization failed to converge. Check mle_retvals\n",
      "  \"Check mle_retvals\", ConvergenceWarning)\n"
     ]
    }
   ],
   "source": [
    "y = jobs[\"high_low\"]\n",
    "X_location = pd.get_dummies(jobs[\"city\"],columns=[\"city\"])\n",
    "X_location = sm.add_constant(X_location, prepend=False)\n",
    "\n",
    "logistic_model = sm.Logit(endog=y,exog=X_location).fit()"
   ]
  },
  {
   "cell_type": "code",
   "execution_count": 10,
   "metadata": {
    "collapsed": false
   },
   "outputs": [
    {
     "name": "stdout",
     "output_type": "stream",
     "text": [
      "Model Accuracy:  0.669950738916\n"
     ]
    },
    {
     "data": {
      "text/html": [
       "<table class=\"simpletable\">\n",
       "<caption>Logit Regression Results</caption>\n",
       "<tr>\n",
       "  <th>Dep. Variable:</th>     <td>high_low</td>     <th>  No. Observations:  </th>  <td>   406</td>  \n",
       "</tr>\n",
       "<tr>\n",
       "  <th>Model:</th>               <td>Logit</td>      <th>  Df Residuals:      </th>  <td>   388</td>  \n",
       "</tr>\n",
       "<tr>\n",
       "  <th>Method:</th>               <td>MLE</td>       <th>  Df Model:          </th>  <td>    17</td>  \n",
       "</tr>\n",
       "<tr>\n",
       "  <th>Date:</th>          <td>Mon, 16 Jan 2017</td> <th>  Pseudo R-squ.:     </th>  <td>0.1512</td>  \n",
       "</tr>\n",
       "<tr>\n",
       "  <th>Time:</th>              <td>12:23:29</td>     <th>  Log-Likelihood:    </th> <td> -238.77</td> \n",
       "</tr>\n",
       "<tr>\n",
       "  <th>converged:</th>           <td>False</td>      <th>  LL-Null:           </th> <td> -281.29</td> \n",
       "</tr>\n",
       "<tr>\n",
       "  <th> </th>                      <td> </td>        <th>  LLR p-value:       </th> <td>4.785e-11</td>\n",
       "</tr>\n",
       "</table>\n",
       "<table class=\"simpletable\">\n",
       "<tr>\n",
       "        <td></td>           <th>coef</th>     <th>std err</th>      <th>z</th>      <th>P>|z|</th> <th>[95.0% Conf. Int.]</th> \n",
       "</tr>\n",
       "<tr>\n",
       "  <th>Atlanta</th>       <td>    3.8500</td> <td> 5.51e+07</td> <td> 6.98e-08</td> <td> 1.000</td> <td>-1.08e+08  1.08e+08</td>\n",
       "</tr>\n",
       "<tr>\n",
       "  <th>Austin</th>        <td>    4.8841</td> <td> 5.51e+07</td> <td> 8.86e-08</td> <td> 1.000</td> <td>-1.08e+08  1.08e+08</td>\n",
       "</tr>\n",
       "<tr>\n",
       "  <th>Boston</th>        <td>    5.9294</td> <td> 5.51e+07</td> <td> 1.08e-07</td> <td> 1.000</td> <td>-1.08e+08  1.08e+08</td>\n",
       "</tr>\n",
       "<tr>\n",
       "  <th>Chicago</th>       <td>    5.4081</td> <td> 5.51e+07</td> <td> 9.81e-08</td> <td> 1.000</td> <td>-1.08e+08  1.08e+08</td>\n",
       "</tr>\n",
       "<tr>\n",
       "  <th>Dallas</th>        <td>    4.4786</td> <td> 5.51e+07</td> <td> 8.12e-08</td> <td> 1.000</td> <td>-1.08e+08  1.08e+08</td>\n",
       "</tr>\n",
       "<tr>\n",
       "  <th>Denver</th>        <td>    3.6313</td> <td> 5.51e+07</td> <td> 6.59e-08</td> <td> 1.000</td> <td>-1.08e+08  1.08e+08</td>\n",
       "</tr>\n",
       "<tr>\n",
       "  <th>Houston</th>       <td>  -22.0468</td> <td> 5.51e+07</td> <td>   -4e-07</td> <td> 1.000</td> <td>-1.08e+08  1.08e+08</td>\n",
       "</tr>\n",
       "<tr>\n",
       "  <th>Los+Angeles</th>   <td>    5.2588</td> <td> 5.51e+07</td> <td> 9.54e-08</td> <td> 1.000</td> <td>-1.08e+08  1.08e+08</td>\n",
       "</tr>\n",
       "<tr>\n",
       "  <th>Miami</th>         <td>    3.5623</td> <td> 5.51e+07</td> <td> 6.46e-08</td> <td> 1.000</td> <td>-1.08e+08  1.08e+08</td>\n",
       "</tr>\n",
       "<tr>\n",
       "  <th>New+York</th>      <td>    4.8554</td> <td> 5.51e+07</td> <td> 8.81e-08</td> <td> 1.000</td> <td>-1.08e+08  1.08e+08</td>\n",
       "</tr>\n",
       "<tr>\n",
       "  <th>Palo+Alto</th>     <td>    6.0367</td> <td> 5.51e+07</td> <td> 1.09e-07</td> <td> 1.000</td> <td>-1.08e+08  1.08e+08</td>\n",
       "</tr>\n",
       "<tr>\n",
       "  <th>Philadelphia</th>  <td>    5.7314</td> <td> 5.51e+07</td> <td> 1.04e-07</td> <td> 1.000</td> <td>-1.08e+08  1.08e+08</td>\n",
       "</tr>\n",
       "<tr>\n",
       "  <th>Phoenix</th>       <td>  -18.2088</td> <td> 5.51e+07</td> <td> -3.3e-07</td> <td> 1.000</td> <td>-1.08e+08  1.08e+08</td>\n",
       "</tr>\n",
       "<tr>\n",
       "  <th>Pittsburgh</th>    <td>  -21.8744</td> <td> 5.51e+07</td> <td>-3.97e-07</td> <td> 1.000</td> <td>-1.08e+08  1.08e+08</td>\n",
       "</tr>\n",
       "<tr>\n",
       "  <th>Portland</th>      <td>  -13.1912</td> <td> 5.51e+07</td> <td>-2.39e-07</td> <td> 1.000</td> <td>-1.08e+08  1.08e+08</td>\n",
       "</tr>\n",
       "<tr>\n",
       "  <th>San+Diego</th>     <td>    4.7663</td> <td> 5.51e+07</td> <td> 8.64e-08</td> <td> 1.000</td> <td>-1.08e+08  1.08e+08</td>\n",
       "</tr>\n",
       "<tr>\n",
       "  <th>San+Francisco</th> <td>    6.4801</td> <td> 5.51e+07</td> <td> 1.18e-07</td> <td> 1.000</td> <td>-1.08e+08  1.08e+08</td>\n",
       "</tr>\n",
       "<tr>\n",
       "  <th>Seattle</th>       <td>    5.2771</td> <td> 5.51e+07</td> <td> 9.57e-08</td> <td> 1.000</td> <td>-1.08e+08  1.08e+08</td>\n",
       "</tr>\n",
       "<tr>\n",
       "  <th>const</th>         <td>   -5.1717</td> <td> 5.51e+07</td> <td>-9.38e-08</td> <td> 1.000</td> <td>-1.08e+08  1.08e+08</td>\n",
       "</tr>\n",
       "</table>"
      ],
      "text/plain": [
       "<class 'statsmodels.iolib.summary.Summary'>\n",
       "\"\"\"\n",
       "                           Logit Regression Results                           \n",
       "==============================================================================\n",
       "Dep. Variable:               high_low   No. Observations:                  406\n",
       "Model:                          Logit   Df Residuals:                      388\n",
       "Method:                           MLE   Df Model:                           17\n",
       "Date:                Mon, 16 Jan 2017   Pseudo R-squ.:                  0.1512\n",
       "Time:                        12:23:29   Log-Likelihood:                -238.77\n",
       "converged:                      False   LL-Null:                       -281.29\n",
       "                                        LLR p-value:                 4.785e-11\n",
       "=================================================================================\n",
       "                    coef    std err          z      P>|z|      [95.0% Conf. Int.]\n",
       "---------------------------------------------------------------------------------\n",
       "Atlanta           3.8500   5.51e+07   6.98e-08      1.000     -1.08e+08  1.08e+08\n",
       "Austin            4.8841   5.51e+07   8.86e-08      1.000     -1.08e+08  1.08e+08\n",
       "Boston            5.9294   5.51e+07   1.08e-07      1.000     -1.08e+08  1.08e+08\n",
       "Chicago           5.4081   5.51e+07   9.81e-08      1.000     -1.08e+08  1.08e+08\n",
       "Dallas            4.4786   5.51e+07   8.12e-08      1.000     -1.08e+08  1.08e+08\n",
       "Denver            3.6313   5.51e+07   6.59e-08      1.000     -1.08e+08  1.08e+08\n",
       "Houston         -22.0468   5.51e+07     -4e-07      1.000     -1.08e+08  1.08e+08\n",
       "Los+Angeles       5.2588   5.51e+07   9.54e-08      1.000     -1.08e+08  1.08e+08\n",
       "Miami             3.5623   5.51e+07   6.46e-08      1.000     -1.08e+08  1.08e+08\n",
       "New+York          4.8554   5.51e+07   8.81e-08      1.000     -1.08e+08  1.08e+08\n",
       "Palo+Alto         6.0367   5.51e+07   1.09e-07      1.000     -1.08e+08  1.08e+08\n",
       "Philadelphia      5.7314   5.51e+07   1.04e-07      1.000     -1.08e+08  1.08e+08\n",
       "Phoenix         -18.2088   5.51e+07   -3.3e-07      1.000     -1.08e+08  1.08e+08\n",
       "Pittsburgh      -21.8744   5.51e+07  -3.97e-07      1.000     -1.08e+08  1.08e+08\n",
       "Portland        -13.1912   5.51e+07  -2.39e-07      1.000     -1.08e+08  1.08e+08\n",
       "San+Diego         4.7663   5.51e+07   8.64e-08      1.000     -1.08e+08  1.08e+08\n",
       "San+Francisco     6.4801   5.51e+07   1.18e-07      1.000     -1.08e+08  1.08e+08\n",
       "Seattle           5.2771   5.51e+07   9.57e-08      1.000     -1.08e+08  1.08e+08\n",
       "const            -5.1717   5.51e+07  -9.38e-08      1.000     -1.08e+08  1.08e+08\n",
       "=================================================================================\n",
       "\"\"\""
      ]
     },
     "execution_count": 10,
     "metadata": {},
     "output_type": "execute_result"
    }
   ],
   "source": [
    "print \"Model Accuracy: \",np.mean([int(i) for i in list((logistic_model.predict(X_location) > 0.5) == y)])\n",
    "logistic_model.summary()"
   ]
  },
  {
   "cell_type": "markdown",
   "metadata": {
    "focus": false,
    "id": "0ef04f32-419c-4bf2-baf7-48201f03df89"
   },
   "source": [
    "#### Improvement of the Regression Through Title Features\n",
    "\n",
    "To improve the regression, I add several features using the \"title\" column.  These are chosen based on pre-conceived notions of which titles might indicate high-paying positions.  \"Senior\", \"Manager\", and \"Lead\" are all expected to more senior positions, while \"Data Scientist\" is generally considered to be a higher-ranking position that \"Data Analyst\".\n",
    "\n",
    "The accuracy of the regression on the training set improves by ~9% from the inclusion of these new features."
   ]
  },
  {
   "cell_type": "code",
   "execution_count": 40,
   "metadata": {
    "collapsed": false,
    "focus": false,
    "id": "068dc1cf-7fd7-4f27-a1f1-7f0a5a221d29"
   },
   "outputs": [
    {
     "name": "stdout",
     "output_type": "stream",
     "text": [
      "Warning: Maximum number of iterations has been exceeded.\n",
      "         Current function value: 0.491443\n",
      "         Iterations: 35\n"
     ]
    },
    {
     "name": "stderr",
     "output_type": "stream",
     "text": [
      "/Users/dsanford/anaconda/lib/python2.7/site-packages/statsmodels/base/model.py:466: ConvergenceWarning: Maximum Likelihood optimization failed to converge. Check mle_retvals\n",
      "  \"Check mle_retvals\", ConvergenceWarning)\n"
     ]
    }
   ],
   "source": [
    "## YOUR CODE HERE\n",
    "y = jobs[\"high_low\"]\n",
    "X_title_features = pd.get_dummies(jobs[\"city\"],columns=[\"city\"])\n",
    "X_title_features[\"Senior\"] = jobs[\"title\"].apply(lambda x:int(\"Senior\" in x ))\n",
    "X_title_features[\"Manager\"] = jobs[\"title\"].apply(lambda x:int(\"Manager\" in x))\n",
    "X_title_features[\"Lead\"] = jobs[\"title\"].apply(lambda x:int(\"Lead\" in x))\n",
    "X_title_features[\"Data Scientist\"] = jobs[\"title\"].apply(lambda x:int(\"Data Scientist\" in x))\n",
    "X_title_features[\"Data Analyst\"] = jobs[\"title\"].apply(lambda x:int(\"Data Analyst\" in x))\n",
    "X_title_features = sm.add_constant(X_title_features, prepend=False)\n",
    "logistic_model = sm.Logit(endog=y,exog=X_title_features,max_iter=1000).fit()"
   ]
  },
  {
   "cell_type": "code",
   "execution_count": 41,
   "metadata": {
    "collapsed": false
   },
   "outputs": [
    {
     "name": "stdout",
     "output_type": "stream",
     "text": [
      "Model Accuracy:  0.761083743842\n"
     ]
    },
    {
     "data": {
      "text/html": [
       "<table class=\"simpletable\">\n",
       "<caption>Logit Regression Results</caption>\n",
       "<tr>\n",
       "  <th>Dep. Variable:</th>     <td>high_low</td>     <th>  No. Observations:  </th>  <td>   406</td>  \n",
       "</tr>\n",
       "<tr>\n",
       "  <th>Model:</th>               <td>Logit</td>      <th>  Df Residuals:      </th>  <td>   383</td>  \n",
       "</tr>\n",
       "<tr>\n",
       "  <th>Method:</th>               <td>MLE</td>       <th>  Df Model:          </th>  <td>    22</td>  \n",
       "</tr>\n",
       "<tr>\n",
       "  <th>Date:</th>          <td>Mon, 16 Jan 2017</td> <th>  Pseudo R-squ.:     </th>  <td>0.2907</td>  \n",
       "</tr>\n",
       "<tr>\n",
       "  <th>Time:</th>              <td>12:43:33</td>     <th>  Log-Likelihood:    </th> <td> -199.53</td> \n",
       "</tr>\n",
       "<tr>\n",
       "  <th>converged:</th>           <td>False</td>      <th>  LL-Null:           </th> <td> -281.29</td> \n",
       "</tr>\n",
       "<tr>\n",
       "  <th> </th>                      <td> </td>        <th>  LLR p-value:       </th> <td>1.289e-23</td>\n",
       "</tr>\n",
       "</table>\n",
       "<table class=\"simpletable\">\n",
       "<tr>\n",
       "         <td></td>           <th>coef</th>     <th>std err</th>      <th>z</th>      <th>P>|z|</th> <th>[95.0% Conf. Int.]</th> \n",
       "</tr>\n",
       "<tr>\n",
       "  <th>Atlanta</th>        <td>    4.7376</td> <td> 5.08e+06</td> <td> 9.32e-07</td> <td> 1.000</td> <td>-9.96e+06  9.96e+06</td>\n",
       "</tr>\n",
       "<tr>\n",
       "  <th>Austin</th>         <td>    4.7820</td> <td> 5.08e+06</td> <td> 9.41e-07</td> <td> 1.000</td> <td>-9.96e+06  9.96e+06</td>\n",
       "</tr>\n",
       "<tr>\n",
       "  <th>Boston</th>         <td>    6.2598</td> <td> 5.08e+06</td> <td> 1.23e-06</td> <td> 1.000</td> <td>-9.96e+06  9.96e+06</td>\n",
       "</tr>\n",
       "<tr>\n",
       "  <th>Chicago</th>        <td>    5.7312</td> <td> 5.08e+06</td> <td> 1.13e-06</td> <td> 1.000</td> <td>-9.96e+06  9.96e+06</td>\n",
       "</tr>\n",
       "<tr>\n",
       "  <th>Dallas</th>         <td>    5.0303</td> <td> 5.08e+06</td> <td>  9.9e-07</td> <td> 1.000</td> <td>-9.96e+06  9.96e+06</td>\n",
       "</tr>\n",
       "<tr>\n",
       "  <th>Denver</th>         <td>    4.2052</td> <td> 5.08e+06</td> <td> 8.28e-07</td> <td> 1.000</td> <td>-9.96e+06  9.96e+06</td>\n",
       "</tr>\n",
       "<tr>\n",
       "  <th>Houston</th>        <td>  -17.2761</td> <td> 5.08e+06</td> <td> -3.4e-06</td> <td> 1.000</td> <td>-9.96e+06  9.96e+06</td>\n",
       "</tr>\n",
       "<tr>\n",
       "  <th>Los+Angeles</th>    <td>    6.0849</td> <td> 5.08e+06</td> <td>  1.2e-06</td> <td> 1.000</td> <td>-9.96e+06  9.96e+06</td>\n",
       "</tr>\n",
       "<tr>\n",
       "  <th>Miami</th>          <td>    3.7264</td> <td> 5.08e+06</td> <td> 7.33e-07</td> <td> 1.000</td> <td>-9.96e+06  9.96e+06</td>\n",
       "</tr>\n",
       "<tr>\n",
       "  <th>New+York</th>       <td>    5.2694</td> <td> 5.08e+06</td> <td> 1.04e-06</td> <td> 1.000</td> <td>-9.96e+06  9.96e+06</td>\n",
       "</tr>\n",
       "<tr>\n",
       "  <th>Palo+Alto</th>      <td>    6.1353</td> <td> 5.08e+06</td> <td> 1.21e-06</td> <td> 1.000</td> <td>-9.96e+06  9.96e+06</td>\n",
       "</tr>\n",
       "<tr>\n",
       "  <th>Philadelphia</th>   <td>    5.8475</td> <td> 5.08e+06</td> <td> 1.15e-06</td> <td> 1.000</td> <td>-9.96e+06  9.96e+06</td>\n",
       "</tr>\n",
       "<tr>\n",
       "  <th>Phoenix</th>        <td>  -16.0708</td> <td> 5.08e+06</td> <td>-3.16e-06</td> <td> 1.000</td> <td>-9.96e+06  9.96e+06</td>\n",
       "</tr>\n",
       "<tr>\n",
       "  <th>Pittsburgh</th>     <td>  -25.1191</td> <td> 5.44e+06</td> <td>-4.61e-06</td> <td> 1.000</td> <td>-1.07e+07  1.07e+07</td>\n",
       "</tr>\n",
       "<tr>\n",
       "  <th>Portland</th>       <td>  -23.1445</td> <td> 5.25e+06</td> <td>-4.41e-06</td> <td> 1.000</td> <td>-1.03e+07  1.03e+07</td>\n",
       "</tr>\n",
       "<tr>\n",
       "  <th>San+Diego</th>      <td>    5.2914</td> <td> 5.08e+06</td> <td> 1.04e-06</td> <td> 1.000</td> <td>-9.96e+06  9.96e+06</td>\n",
       "</tr>\n",
       "<tr>\n",
       "  <th>San+Francisco</th>  <td>    6.7751</td> <td> 5.08e+06</td> <td> 1.33e-06</td> <td> 1.000</td> <td>-9.96e+06  9.96e+06</td>\n",
       "</tr>\n",
       "<tr>\n",
       "  <th>Seattle</th>        <td>    5.5659</td> <td> 5.08e+06</td> <td>  1.1e-06</td> <td> 1.000</td> <td>-9.96e+06  9.96e+06</td>\n",
       "</tr>\n",
       "<tr>\n",
       "  <th>Senior</th>         <td>    1.1160</td> <td>    0.427</td> <td>    2.616</td> <td> 0.009</td> <td>    0.280     1.952</td>\n",
       "</tr>\n",
       "<tr>\n",
       "  <th>Manager</th>        <td>    0.2497</td> <td>    0.477</td> <td>    0.523</td> <td> 0.601</td> <td>   -0.686     1.185</td>\n",
       "</tr>\n",
       "<tr>\n",
       "  <th>Lead</th>           <td>    1.3103</td> <td>    1.112</td> <td>    1.178</td> <td> 0.239</td> <td>   -0.869     3.490</td>\n",
       "</tr>\n",
       "<tr>\n",
       "  <th>Data Scientist</th> <td>    2.0933</td> <td>    0.333</td> <td>    6.292</td> <td> 0.000</td> <td>    1.441     2.745</td>\n",
       "</tr>\n",
       "<tr>\n",
       "  <th>Data Analyst</th>   <td>   -2.5438</td> <td>    1.140</td> <td>   -2.232</td> <td> 0.026</td> <td>   -4.777    -0.310</td>\n",
       "</tr>\n",
       "<tr>\n",
       "  <th>const</th>          <td>   -6.1687</td> <td> 5.08e+06</td> <td>-1.21e-06</td> <td> 1.000</td> <td>-9.96e+06  9.96e+06</td>\n",
       "</tr>\n",
       "</table>"
      ],
      "text/plain": [
       "<class 'statsmodels.iolib.summary.Summary'>\n",
       "\"\"\"\n",
       "                           Logit Regression Results                           \n",
       "==============================================================================\n",
       "Dep. Variable:               high_low   No. Observations:                  406\n",
       "Model:                          Logit   Df Residuals:                      383\n",
       "Method:                           MLE   Df Model:                           22\n",
       "Date:                Mon, 16 Jan 2017   Pseudo R-squ.:                  0.2907\n",
       "Time:                        12:43:33   Log-Likelihood:                -199.53\n",
       "converged:                      False   LL-Null:                       -281.29\n",
       "                                        LLR p-value:                 1.289e-23\n",
       "==================================================================================\n",
       "                     coef    std err          z      P>|z|      [95.0% Conf. Int.]\n",
       "----------------------------------------------------------------------------------\n",
       "Atlanta            4.7376   5.08e+06   9.32e-07      1.000     -9.96e+06  9.96e+06\n",
       "Austin             4.7820   5.08e+06   9.41e-07      1.000     -9.96e+06  9.96e+06\n",
       "Boston             6.2598   5.08e+06   1.23e-06      1.000     -9.96e+06  9.96e+06\n",
       "Chicago            5.7312   5.08e+06   1.13e-06      1.000     -9.96e+06  9.96e+06\n",
       "Dallas             5.0303   5.08e+06    9.9e-07      1.000     -9.96e+06  9.96e+06\n",
       "Denver             4.2052   5.08e+06   8.28e-07      1.000     -9.96e+06  9.96e+06\n",
       "Houston          -17.2761   5.08e+06   -3.4e-06      1.000     -9.96e+06  9.96e+06\n",
       "Los+Angeles        6.0849   5.08e+06    1.2e-06      1.000     -9.96e+06  9.96e+06\n",
       "Miami              3.7264   5.08e+06   7.33e-07      1.000     -9.96e+06  9.96e+06\n",
       "New+York           5.2694   5.08e+06   1.04e-06      1.000     -9.96e+06  9.96e+06\n",
       "Palo+Alto          6.1353   5.08e+06   1.21e-06      1.000     -9.96e+06  9.96e+06\n",
       "Philadelphia       5.8475   5.08e+06   1.15e-06      1.000     -9.96e+06  9.96e+06\n",
       "Phoenix          -16.0708   5.08e+06  -3.16e-06      1.000     -9.96e+06  9.96e+06\n",
       "Pittsburgh       -25.1191   5.44e+06  -4.61e-06      1.000     -1.07e+07  1.07e+07\n",
       "Portland         -23.1445   5.25e+06  -4.41e-06      1.000     -1.03e+07  1.03e+07\n",
       "San+Diego          5.2914   5.08e+06   1.04e-06      1.000     -9.96e+06  9.96e+06\n",
       "San+Francisco      6.7751   5.08e+06   1.33e-06      1.000     -9.96e+06  9.96e+06\n",
       "Seattle            5.5659   5.08e+06    1.1e-06      1.000     -9.96e+06  9.96e+06\n",
       "Senior             1.1160      0.427      2.616      0.009         0.280     1.952\n",
       "Manager            0.2497      0.477      0.523      0.601        -0.686     1.185\n",
       "Lead               1.3103      1.112      1.178      0.239        -0.869     3.490\n",
       "Data Scientist     2.0933      0.333      6.292      0.000         1.441     2.745\n",
       "Data Analyst      -2.5438      1.140     -2.232      0.026        -4.777    -0.310\n",
       "const             -6.1687   5.08e+06  -1.21e-06      1.000     -9.96e+06  9.96e+06\n",
       "==================================================================================\n",
       "\"\"\""
      ]
     },
     "execution_count": 41,
     "metadata": {},
     "output_type": "execute_result"
    }
   ],
   "source": [
    "print \"Model Accuracy: \",np.mean([int(i) for i in list((logistic_model.predict(X_title_features) > 0.5) == y)])\n",
    "logistic_model.summary()"
   ]
  },
  {
   "cell_type": "markdown",
   "metadata": {},
   "source": [
    "## Logistic Regression using Scikit-Learn"
   ]
  },
  {
   "cell_type": "markdown",
   "metadata": {
    "focus": false,
    "id": "9c9274ef-c9f5-4d56-b286-ecc8709eff9f"
   },
   "source": [
    "#### Base Model\n",
    "\n",
    "Rebuilding the models using scikit-learn results in equivalent accuracies on the training sets.  Note that I have set \"fit_intercept\" to false since a constant has already been included in the feature set.  \"C=1e10\" is set to produce an unregularized fit, as \"C\" here is the inverse of the weight in the regression formula."
   ]
  },
  {
   "cell_type": "code",
   "execution_count": 29,
   "metadata": {
    "collapsed": false
   },
   "outputs": [
    {
     "name": "stdout",
     "output_type": "stream",
     "text": [
      "Model Accuracy:  0.669950738916\n"
     ]
    }
   ],
   "source": [
    "logistic_model = LogisticRegression(penalty='l2',solver='liblinear',C=1e10,fit_intercept=False).fit(X_location,y)\n",
    "print \"Model Accuracy: \",logistic_model.score(X_location,y)"
   ]
  },
  {
   "cell_type": "code",
   "execution_count": 30,
   "metadata": {
    "collapsed": false
   },
   "outputs": [
    {
     "name": "stdout",
     "output_type": "stream",
     "text": [
      "Model Accuracy:  0.761083743842\n"
     ]
    }
   ],
   "source": [
    "logistic_model = LogisticRegression(penalty='l2',solver='liblinear',C=1e10,fit_intercept=False).fit(X_title_features,y)\n",
    "print \"Model Accuracy: \",logistic_model.score(X_title_features,y)"
   ]
  },
  {
   "cell_type": "markdown",
   "metadata": {
    "focus": false,
    "id": "9367beff-72ba-4768-a0ba-a50b335de61d"
   },
   "source": [
    "#### Evaluation of Accuracy using Cross-Validation\n",
    "\n",
    "To properly judge the accuracy of the model, a training-test split is necessary.  For the rest of the project I use 10-fold cross-validation, with all displayed accuracies produced by averaging the metrics output for each train-test pair.  Accuracy, the area under the ROC curve, precision, recall, and the F1-score are displayed for each model.  In the unregularized model, the average test set accuracy is 67% for the \"locations + title features\" set as opposed to 76% for the training set."
   ]
  },
  {
   "cell_type": "code",
   "execution_count": 31,
   "metadata": {
    "collapsed": false,
    "focus": false,
    "id": "269b9e7c-60b5-4a06-8255-881d7395bc1b"
   },
   "outputs": [
    {
     "name": "stdout",
     "output_type": "stream",
     "text": [
      "Accuracy metrics for 10-fold cross-validation\n",
      "Accuracy    0.671544715447\n",
      "ROC AUC     0.73406641604\n",
      "Precision   0.763072442432\n",
      "Recall      0.568947368421\n",
      "F1          0.601765912191\n"
     ]
    }
   ],
   "source": [
    "## YOUR CODE HERE\n",
    "from sklearn.metrics import accuracy_score\n",
    "from sklearn.metrics import roc_auc_score\n",
    "from sklearn.metrics import precision_score\n",
    "from sklearn.metrics import recall_score\n",
    "from sklearn.metrics import f1_score\n",
    "\n",
    "regression_for_cv = LogisticRegressionCV(penalty='l2',solver='liblinear',fit_intercept=False,Cs=[1e10])\n",
    "\n",
    "print \"Accuracy metrics for 10-fold cross-validation\"\n",
    "print \"Accuracy   \",np.mean(cross_val_score(regression_for_cv,X_title_features,y,cv=10,scoring='accuracy'))\n",
    "print \"ROC AUC    \",np.mean(cross_val_score(regression_for_cv,X_title_features,y,cv=10,scoring='roc_auc'))\n",
    "print \"Precision  \",np.mean(cross_val_score(regression_for_cv,X_title_features,y,cv=10,scoring='precision'))\n",
    "print \"Recall     \",np.mean(cross_val_score(regression_for_cv,X_title_features,y,cv=10,scoring='recall'))\n",
    "print \"F1         \",np.mean(cross_val_score(regression_for_cv,X_title_features,y,cv=10,scoring='f1'))"
   ]
  },
  {
   "cell_type": "markdown",
   "metadata": {
    "focus": false,
    "id": "8c22664b-92e4-4fc2-b7ac-fbac865845d3"
   },
   "source": [
    "#### Effects of L2 and L1 Regularization\n",
    "\n",
    "To study the effects of regularization, I consider both L2 and L1 regularization, with weights of 1, 10, and 100.  For reference, the unregularized model is considered alongside the regularized models."
   ]
  },
  {
   "cell_type": "code",
   "execution_count": 32,
   "metadata": {
    "collapsed": false
   },
   "outputs": [
    {
     "name": "stderr",
     "output_type": "stream",
     "text": [
      "/Users/dsanford/anaconda/lib/python2.7/site-packages/sklearn/metrics/classification.py:1113: UndefinedMetricWarning: Precision is ill-defined and being set to 0.0 due to no predicted samples.\n",
      "  'precision', 'predicted', average, warn_for)\n",
      "/Users/dsanford/anaconda/lib/python2.7/site-packages/sklearn/metrics/classification.py:1113: UndefinedMetricWarning: F-score is ill-defined and being set to 0.0 due to no predicted samples.\n",
      "  'precision', 'predicted', average, warn_for)\n"
     ]
    }
   ],
   "source": [
    "models = [\"Unregularized\",\"L2 Weight 1\",\"L2 Weight 10\",\"L2 Weight 100\",\"L1 Weight 1\",\"L1 Weight 10\",\"L1 Weight 100\"]\n",
    "penalties = [\"l2\",\"l2\",\"l2\",\"l2\",\"l1\",\"l1\",\"l1\"]\n",
    "weights = [1e10,1,0.1,0.01,1,0.1,0.01]\n",
    "\n",
    "coefficients = []\n",
    "summary_measures = []\n",
    "\n",
    "for i in range(7):\n",
    "    regression_for_cv = LogisticRegressionCV(penalty=penalties[i],solver='liblinear',\n",
    "                                             fit_intercept=False,Cs=[weights[i]])\n",
    "\n",
    "    summary_measures.append({\\\n",
    "        \"Model\":models[i],\\\n",
    "        \"Accuracy\":np.mean(cross_val_score(regression_for_cv,X_title_features,y,cv=10,scoring='accuracy')),\\\n",
    "        \"ROC AUC\":np.mean(cross_val_score(regression_for_cv,X_title_features,y,cv=10,scoring='roc_auc')),\\\n",
    "        \"Precision\":np.mean(cross_val_score(regression_for_cv,X_title_features,y,cv=10,scoring='precision')),\\\n",
    "        \"Recall\":np.mean(cross_val_score(regression_for_cv,X_title_features,y,cv=10,scoring='recall')),\\\n",
    "        \"F1\":np.mean(cross_val_score(regression_for_cv,X_title_features,y,cv=10,scoring='f1'))})\n",
    "    \n",
    "    logistic_model = LogisticRegression(penalty=penalties[i],solver='liblinear',C=weights[i],\n",
    "                                        fit_intercept=False).fit(X_title_features,y)\n",
    "    coefficients.append({\"Model Name\":models[i],\"Coefficients\":logistic_model.coef_[0]})\n",
    "    \n",
    "summary_measures = pd.DataFrame(summary_measures)\n",
    "\n",
    "regularized_coefficients = pd.DataFrame(\\\n",
    "    [{\"Label\":X_title_features.columns[i],\"Model\":model[\"Model Name\"],\"Coefficient\":coef}\n",
    "         for model in coefficients for i,coef in enumerate(model[\"Coefficients\"])])"
   ]
  },
  {
   "cell_type": "markdown",
   "metadata": {},
   "source": [
    "Examining the results, the L2 models produce moderately better results for most measures.  In terms of the coefficients below, increasing the weight reduces the coefficient, but it does so in a roughly uniform manner.  In contrast, the L1 models have coefficients increasingly set to zero with high regularization strength.  All the regularizations used except for L1 with weight 100 are comparable in accuracy. \n",
    "\n",
    "In this case perhaps the most relevant is precision, which corresponds to the probability that a job which the regression identifies as high-paying is actually high-paying.  This is in contrast to recall, which corresponds to the portion of high-paying jobs selected by the algorithm.  Improving precision selects high-paying jobs more consistently, while improving recall produces a larger job pool.  The two are combined in the F1 score.  The best model (though only marginally so) is L2 with a weight of 100, so I will use that regularization scheme when trying to improve the model with more features."
   ]
  },
  {
   "cell_type": "code",
   "execution_count": 33,
   "metadata": {
    "collapsed": false
   },
   "outputs": [
    {
     "data": {
      "text/html": [
       "<div>\n",
       "<table border=\"1\" class=\"dataframe\">\n",
       "  <thead>\n",
       "    <tr style=\"text-align: right;\">\n",
       "      <th></th>\n",
       "      <th>Model</th>\n",
       "      <th>Accuracy</th>\n",
       "      <th>ROC AUC</th>\n",
       "      <th>Precision</th>\n",
       "      <th>Recall</th>\n",
       "      <th>F1</th>\n",
       "    </tr>\n",
       "  </thead>\n",
       "  <tbody>\n",
       "    <tr>\n",
       "      <th>0</th>\n",
       "      <td>Unregularized</td>\n",
       "      <td>0.671545</td>\n",
       "      <td>0.734066</td>\n",
       "      <td>0.763072</td>\n",
       "      <td>0.568947</td>\n",
       "      <td>0.601766</td>\n",
       "    </tr>\n",
       "    <tr>\n",
       "      <th>1</th>\n",
       "      <td>L2 Weight 1</td>\n",
       "      <td>0.655410</td>\n",
       "      <td>0.743264</td>\n",
       "      <td>0.727982</td>\n",
       "      <td>0.550526</td>\n",
       "      <td>0.582301</td>\n",
       "    </tr>\n",
       "    <tr>\n",
       "      <th>2</th>\n",
       "      <td>L2 Weight 10</td>\n",
       "      <td>0.687117</td>\n",
       "      <td>0.755733</td>\n",
       "      <td>0.770152</td>\n",
       "      <td>0.530526</td>\n",
       "      <td>0.603067</td>\n",
       "    </tr>\n",
       "    <tr>\n",
       "      <th>3</th>\n",
       "      <td>L2 Weight 100</td>\n",
       "      <td>0.694434</td>\n",
       "      <td>0.758678</td>\n",
       "      <td>0.764760</td>\n",
       "      <td>0.555526</td>\n",
       "      <td>0.617389</td>\n",
       "    </tr>\n",
       "    <tr>\n",
       "      <th>4</th>\n",
       "      <td>L1 Weight 1</td>\n",
       "      <td>0.687117</td>\n",
       "      <td>0.739618</td>\n",
       "      <td>0.772843</td>\n",
       "      <td>0.530526</td>\n",
       "      <td>0.601505</td>\n",
       "    </tr>\n",
       "    <tr>\n",
       "      <th>5</th>\n",
       "      <td>L1 Weight 10</td>\n",
       "      <td>0.704565</td>\n",
       "      <td>0.695583</td>\n",
       "      <td>0.826998</td>\n",
       "      <td>0.469737</td>\n",
       "      <td>0.582923</td>\n",
       "    </tr>\n",
       "    <tr>\n",
       "      <th>6</th>\n",
       "      <td>L1 Weight 100</td>\n",
       "      <td>0.512320</td>\n",
       "      <td>0.500000</td>\n",
       "      <td>0.000000</td>\n",
       "      <td>0.000000</td>\n",
       "      <td>0.000000</td>\n",
       "    </tr>\n",
       "  </tbody>\n",
       "</table>\n",
       "</div>"
      ],
      "text/plain": [
       "           Model  Accuracy   ROC AUC  Precision    Recall        F1\n",
       "0  Unregularized  0.671545  0.734066   0.763072  0.568947  0.601766\n",
       "1    L2 Weight 1  0.655410  0.743264   0.727982  0.550526  0.582301\n",
       "2   L2 Weight 10  0.687117  0.755733   0.770152  0.530526  0.603067\n",
       "3  L2 Weight 100  0.694434  0.758678   0.764760  0.555526  0.617389\n",
       "4    L1 Weight 1  0.687117  0.739618   0.772843  0.530526  0.601505\n",
       "5   L1 Weight 10  0.704565  0.695583   0.826998  0.469737  0.582923\n",
       "6  L1 Weight 100  0.512320  0.500000   0.000000  0.000000  0.000000"
      ]
     },
     "execution_count": 33,
     "metadata": {},
     "output_type": "execute_result"
    }
   ],
   "source": [
    "summary_measures[[\"Model\",\"Accuracy\",\"ROC AUC\",\"Precision\",\"Recall\",\"F1\"]]"
   ]
  },
  {
   "cell_type": "code",
   "execution_count": 34,
   "metadata": {
    "collapsed": false
   },
   "outputs": [
    {
     "data": {
      "text/html": [
       "<div>\n",
       "<table border=\"1\" class=\"dataframe\">\n",
       "  <thead>\n",
       "    <tr style=\"text-align: right;\">\n",
       "      <th>Model</th>\n",
       "      <th>L1 Weight 1</th>\n",
       "      <th>L1 Weight 10</th>\n",
       "      <th>L1 Weight 100</th>\n",
       "      <th>L2 Weight 1</th>\n",
       "      <th>L2 Weight 10</th>\n",
       "      <th>L2 Weight 100</th>\n",
       "      <th>Unregularized</th>\n",
       "    </tr>\n",
       "    <tr>\n",
       "      <th>Label</th>\n",
       "      <th></th>\n",
       "      <th></th>\n",
       "      <th></th>\n",
       "      <th></th>\n",
       "      <th></th>\n",
       "      <th></th>\n",
       "      <th></th>\n",
       "    </tr>\n",
       "  </thead>\n",
       "  <tbody>\n",
       "    <tr>\n",
       "      <th>Atlanta</th>\n",
       "      <td>-0.292910</td>\n",
       "      <td>0.000000</td>\n",
       "      <td>0.0</td>\n",
       "      <td>-0.418289</td>\n",
       "      <td>-0.261899</td>\n",
       "      <td>-0.049788</td>\n",
       "      <td>1.214603</td>\n",
       "    </tr>\n",
       "    <tr>\n",
       "      <th>Austin</th>\n",
       "      <td>0.000000</td>\n",
       "      <td>0.000000</td>\n",
       "      <td>0.0</td>\n",
       "      <td>-0.230420</td>\n",
       "      <td>-0.065786</td>\n",
       "      <td>-0.006187</td>\n",
       "      <td>1.259027</td>\n",
       "    </tr>\n",
       "    <tr>\n",
       "      <th>Boston</th>\n",
       "      <td>0.849597</td>\n",
       "      <td>0.000000</td>\n",
       "      <td>0.0</td>\n",
       "      <td>0.898303</td>\n",
       "      <td>0.367620</td>\n",
       "      <td>0.070457</td>\n",
       "      <td>2.736755</td>\n",
       "    </tr>\n",
       "    <tr>\n",
       "      <th>Chicago</th>\n",
       "      <td>0.280715</td>\n",
       "      <td>0.000000</td>\n",
       "      <td>0.0</td>\n",
       "      <td>0.413542</td>\n",
       "      <td>0.093093</td>\n",
       "      <td>0.014873</td>\n",
       "      <td>2.208141</td>\n",
       "    </tr>\n",
       "    <tr>\n",
       "      <th>Dallas</th>\n",
       "      <td>0.000000</td>\n",
       "      <td>0.000000</td>\n",
       "      <td>0.0</td>\n",
       "      <td>-0.143287</td>\n",
       "      <td>-0.108762</td>\n",
       "      <td>-0.018936</td>\n",
       "      <td>1.507280</td>\n",
       "    </tr>\n",
       "    <tr>\n",
       "      <th>Data Analyst</th>\n",
       "      <td>-1.629862</td>\n",
       "      <td>0.000000</td>\n",
       "      <td>0.0</td>\n",
       "      <td>-1.349961</td>\n",
       "      <td>-0.396536</td>\n",
       "      <td>-0.060532</td>\n",
       "      <td>-2.543766</td>\n",
       "    </tr>\n",
       "    <tr>\n",
       "      <th>Data Scientist</th>\n",
       "      <td>2.023572</td>\n",
       "      <td>1.524936</td>\n",
       "      <td>0.0</td>\n",
       "      <td>1.940447</td>\n",
       "      <td>1.251910</td>\n",
       "      <td>0.313149</td>\n",
       "      <td>2.093276</td>\n",
       "    </tr>\n",
       "    <tr>\n",
       "      <th>Denver</th>\n",
       "      <td>-0.685045</td>\n",
       "      <td>0.000000</td>\n",
       "      <td>0.0</td>\n",
       "      <td>-0.738159</td>\n",
       "      <td>-0.313634</td>\n",
       "      <td>-0.051194</td>\n",
       "      <td>0.682185</td>\n",
       "    </tr>\n",
       "    <tr>\n",
       "      <th>Houston</th>\n",
       "      <td>-1.482741</td>\n",
       "      <td>0.000000</td>\n",
       "      <td>0.0</td>\n",
       "      <td>-1.221994</td>\n",
       "      <td>-0.311884</td>\n",
       "      <td>-0.042823</td>\n",
       "      <td>-7.831663</td>\n",
       "    </tr>\n",
       "    <tr>\n",
       "      <th>Lead</th>\n",
       "      <td>0.546222</td>\n",
       "      <td>0.000000</td>\n",
       "      <td>0.0</td>\n",
       "      <td>0.741517</td>\n",
       "      <td>0.228616</td>\n",
       "      <td>0.039002</td>\n",
       "      <td>1.310294</td>\n",
       "    </tr>\n",
       "    <tr>\n",
       "      <th>Los+Angeles</th>\n",
       "      <td>0.587457</td>\n",
       "      <td>0.000000</td>\n",
       "      <td>0.0</td>\n",
       "      <td>0.693367</td>\n",
       "      <td>0.151642</td>\n",
       "      <td>0.007537</td>\n",
       "      <td>2.561841</td>\n",
       "    </tr>\n",
       "    <tr>\n",
       "      <th>Manager</th>\n",
       "      <td>0.013641</td>\n",
       "      <td>0.000000</td>\n",
       "      <td>0.0</td>\n",
       "      <td>0.184812</td>\n",
       "      <td>0.003419</td>\n",
       "      <td>-0.015168</td>\n",
       "      <td>0.249685</td>\n",
       "    </tr>\n",
       "    <tr>\n",
       "      <th>Miami</th>\n",
       "      <td>-0.391077</td>\n",
       "      <td>0.000000</td>\n",
       "      <td>0.0</td>\n",
       "      <td>-0.662560</td>\n",
       "      <td>-0.157380</td>\n",
       "      <td>-0.019702</td>\n",
       "      <td>0.203396</td>\n",
       "    </tr>\n",
       "    <tr>\n",
       "      <th>New+York</th>\n",
       "      <td>0.000000</td>\n",
       "      <td>0.000000</td>\n",
       "      <td>0.0</td>\n",
       "      <td>0.022395</td>\n",
       "      <td>-0.171552</td>\n",
       "      <td>-0.066023</td>\n",
       "      <td>1.746384</td>\n",
       "    </tr>\n",
       "    <tr>\n",
       "      <th>Palo+Alto</th>\n",
       "      <td>0.677389</td>\n",
       "      <td>0.000000</td>\n",
       "      <td>0.0</td>\n",
       "      <td>0.781475</td>\n",
       "      <td>0.268839</td>\n",
       "      <td>0.046550</td>\n",
       "      <td>2.612259</td>\n",
       "    </tr>\n",
       "    <tr>\n",
       "      <th>Philadelphia</th>\n",
       "      <td>0.144080</td>\n",
       "      <td>0.000000</td>\n",
       "      <td>0.0</td>\n",
       "      <td>0.453698</td>\n",
       "      <td>0.094554</td>\n",
       "      <td>0.012966</td>\n",
       "      <td>2.324485</td>\n",
       "    </tr>\n",
       "    <tr>\n",
       "      <th>Phoenix</th>\n",
       "      <td>-0.795040</td>\n",
       "      <td>0.000000</td>\n",
       "      <td>0.0</td>\n",
       "      <td>-0.882986</td>\n",
       "      <td>-0.209154</td>\n",
       "      <td>-0.028483</td>\n",
       "      <td>-7.029218</td>\n",
       "    </tr>\n",
       "    <tr>\n",
       "      <th>Pittsburgh</th>\n",
       "      <td>-1.282945</td>\n",
       "      <td>0.000000</td>\n",
       "      <td>0.0</td>\n",
       "      <td>-1.114308</td>\n",
       "      <td>-0.297274</td>\n",
       "      <td>-0.042489</td>\n",
       "      <td>-7.552920</td>\n",
       "    </tr>\n",
       "    <tr>\n",
       "      <th>Portland</th>\n",
       "      <td>0.000000</td>\n",
       "      <td>0.000000</td>\n",
       "      <td>0.0</td>\n",
       "      <td>-0.390379</td>\n",
       "      <td>-0.048442</td>\n",
       "      <td>-0.005034</td>\n",
       "      <td>-6.351486</td>\n",
       "    </tr>\n",
       "    <tr>\n",
       "      <th>San+Diego</th>\n",
       "      <td>0.000000</td>\n",
       "      <td>0.000000</td>\n",
       "      <td>0.0</td>\n",
       "      <td>0.088125</td>\n",
       "      <td>-0.029839</td>\n",
       "      <td>-0.008881</td>\n",
       "      <td>1.768353</td>\n",
       "    </tr>\n",
       "    <tr>\n",
       "      <th>San+Francisco</th>\n",
       "      <td>1.300751</td>\n",
       "      <td>0.000000</td>\n",
       "      <td>0.0</td>\n",
       "      <td>1.308604</td>\n",
       "      <td>0.551058</td>\n",
       "      <td>0.111343</td>\n",
       "      <td>3.252060</td>\n",
       "    </tr>\n",
       "    <tr>\n",
       "      <th>Seattle</th>\n",
       "      <td>0.023525</td>\n",
       "      <td>0.000000</td>\n",
       "      <td>0.0</td>\n",
       "      <td>0.268694</td>\n",
       "      <td>0.032691</td>\n",
       "      <td>0.003235</td>\n",
       "      <td>2.042876</td>\n",
       "    </tr>\n",
       "    <tr>\n",
       "      <th>Senior</th>\n",
       "      <td>0.778536</td>\n",
       "      <td>0.000000</td>\n",
       "      <td>0.0</td>\n",
       "      <td>0.819802</td>\n",
       "      <td>0.402376</td>\n",
       "      <td>0.091609</td>\n",
       "      <td>1.115968</td>\n",
       "    </tr>\n",
       "    <tr>\n",
       "      <th>const</th>\n",
       "      <td>-0.814445</td>\n",
       "      <td>-0.324971</td>\n",
       "      <td>0.0</td>\n",
       "      <td>-0.874178</td>\n",
       "      <td>-0.416107</td>\n",
       "      <td>-0.072580</td>\n",
       "      <td>-2.645641</td>\n",
       "    </tr>\n",
       "  </tbody>\n",
       "</table>\n",
       "</div>"
      ],
      "text/plain": [
       "Model           L1 Weight 1  L1 Weight 10  L1 Weight 100  L2 Weight 1  \\\n",
       "Label                                                                   \n",
       "Atlanta           -0.292910      0.000000            0.0    -0.418289   \n",
       "Austin             0.000000      0.000000            0.0    -0.230420   \n",
       "Boston             0.849597      0.000000            0.0     0.898303   \n",
       "Chicago            0.280715      0.000000            0.0     0.413542   \n",
       "Dallas             0.000000      0.000000            0.0    -0.143287   \n",
       "Data Analyst      -1.629862      0.000000            0.0    -1.349961   \n",
       "Data Scientist     2.023572      1.524936            0.0     1.940447   \n",
       "Denver            -0.685045      0.000000            0.0    -0.738159   \n",
       "Houston           -1.482741      0.000000            0.0    -1.221994   \n",
       "Lead               0.546222      0.000000            0.0     0.741517   \n",
       "Los+Angeles        0.587457      0.000000            0.0     0.693367   \n",
       "Manager            0.013641      0.000000            0.0     0.184812   \n",
       "Miami             -0.391077      0.000000            0.0    -0.662560   \n",
       "New+York           0.000000      0.000000            0.0     0.022395   \n",
       "Palo+Alto          0.677389      0.000000            0.0     0.781475   \n",
       "Philadelphia       0.144080      0.000000            0.0     0.453698   \n",
       "Phoenix           -0.795040      0.000000            0.0    -0.882986   \n",
       "Pittsburgh        -1.282945      0.000000            0.0    -1.114308   \n",
       "Portland           0.000000      0.000000            0.0    -0.390379   \n",
       "San+Diego          0.000000      0.000000            0.0     0.088125   \n",
       "San+Francisco      1.300751      0.000000            0.0     1.308604   \n",
       "Seattle            0.023525      0.000000            0.0     0.268694   \n",
       "Senior             0.778536      0.000000            0.0     0.819802   \n",
       "const             -0.814445     -0.324971            0.0    -0.874178   \n",
       "\n",
       "Model           L2 Weight 10  L2 Weight 100  Unregularized  \n",
       "Label                                                       \n",
       "Atlanta            -0.261899      -0.049788       1.214603  \n",
       "Austin             -0.065786      -0.006187       1.259027  \n",
       "Boston              0.367620       0.070457       2.736755  \n",
       "Chicago             0.093093       0.014873       2.208141  \n",
       "Dallas             -0.108762      -0.018936       1.507280  \n",
       "Data Analyst       -0.396536      -0.060532      -2.543766  \n",
       "Data Scientist      1.251910       0.313149       2.093276  \n",
       "Denver             -0.313634      -0.051194       0.682185  \n",
       "Houston            -0.311884      -0.042823      -7.831663  \n",
       "Lead                0.228616       0.039002       1.310294  \n",
       "Los+Angeles         0.151642       0.007537       2.561841  \n",
       "Manager             0.003419      -0.015168       0.249685  \n",
       "Miami              -0.157380      -0.019702       0.203396  \n",
       "New+York           -0.171552      -0.066023       1.746384  \n",
       "Palo+Alto           0.268839       0.046550       2.612259  \n",
       "Philadelphia        0.094554       0.012966       2.324485  \n",
       "Phoenix            -0.209154      -0.028483      -7.029218  \n",
       "Pittsburgh         -0.297274      -0.042489      -7.552920  \n",
       "Portland           -0.048442      -0.005034      -6.351486  \n",
       "San+Diego          -0.029839      -0.008881       1.768353  \n",
       "San+Francisco       0.551058       0.111343       3.252060  \n",
       "Seattle             0.032691       0.003235       2.042876  \n",
       "Senior              0.402376       0.091609       1.115968  \n",
       "const              -0.416107      -0.072580      -2.645641  "
      ]
     },
     "execution_count": 34,
     "metadata": {},
     "output_type": "execute_result"
    }
   ],
   "source": [
    "regularized_coefficients.pivot(\"Label\",\"Model\",\"Coefficient\")"
   ]
  },
  {
   "cell_type": "code",
   "execution_count": 35,
   "metadata": {
    "collapsed": false
   },
   "outputs": [
    {
     "data": {
      "text/html": [
       "<div>\n",
       "<table border=\"1\" class=\"dataframe\">\n",
       "  <thead>\n",
       "    <tr style=\"text-align: right;\">\n",
       "      <th>Model</th>\n",
       "      <th>L1 Weight 1</th>\n",
       "      <th>L1 Weight 10</th>\n",
       "      <th>L1 Weight 100</th>\n",
       "      <th>L2 Weight 1</th>\n",
       "      <th>L2 Weight 10</th>\n",
       "      <th>L2 Weight 100</th>\n",
       "      <th>Unregularized</th>\n",
       "    </tr>\n",
       "  </thead>\n",
       "  <tbody>\n",
       "    <tr>\n",
       "      <th>count</th>\n",
       "      <td>24.000000</td>\n",
       "      <td>24.000000</td>\n",
       "      <td>24.0</td>\n",
       "      <td>24.000000</td>\n",
       "      <td>24.000000</td>\n",
       "      <td>24.000000</td>\n",
       "      <td>24.000000</td>\n",
       "    </tr>\n",
       "    <tr>\n",
       "      <th>mean</th>\n",
       "      <td>-0.006191</td>\n",
       "      <td>0.049999</td>\n",
       "      <td>0.0</td>\n",
       "      <td>0.024511</td>\n",
       "      <td>0.027399</td>\n",
       "      <td>0.009287</td>\n",
       "      <td>-0.127743</td>\n",
       "    </tr>\n",
       "    <tr>\n",
       "      <th>std</th>\n",
       "      <td>0.855183</td>\n",
       "      <td>0.321074</td>\n",
       "      <td>0.0</td>\n",
       "      <td>0.848559</td>\n",
       "      <td>0.368105</td>\n",
       "      <td>0.080717</td>\n",
       "      <td>3.529619</td>\n",
       "    </tr>\n",
       "    <tr>\n",
       "      <th>min</th>\n",
       "      <td>-1.629862</td>\n",
       "      <td>-0.324971</td>\n",
       "      <td>0.0</td>\n",
       "      <td>-1.349961</td>\n",
       "      <td>-0.416107</td>\n",
       "      <td>-0.072580</td>\n",
       "      <td>-7.831663</td>\n",
       "    </tr>\n",
       "    <tr>\n",
       "      <th>25%</th>\n",
       "      <td>-0.464569</td>\n",
       "      <td>0.000000</td>\n",
       "      <td>0.0</td>\n",
       "      <td>-0.681460</td>\n",
       "      <td>-0.222340</td>\n",
       "      <td>-0.042573</td>\n",
       "      <td>-0.483395</td>\n",
       "    </tr>\n",
       "    <tr>\n",
       "      <th>50%</th>\n",
       "      <td>0.000000</td>\n",
       "      <td>0.000000</td>\n",
       "      <td>0.0</td>\n",
       "      <td>0.055260</td>\n",
       "      <td>-0.039140</td>\n",
       "      <td>-0.007534</td>\n",
       "      <td>1.284660</td>\n",
       "    </tr>\n",
       "    <tr>\n",
       "      <th>75%</th>\n",
       "      <td>0.556531</td>\n",
       "      <td>0.000000</td>\n",
       "      <td>0.0</td>\n",
       "      <td>0.705405</td>\n",
       "      <td>0.170885</td>\n",
       "      <td>0.020906</td>\n",
       "      <td>2.121992</td>\n",
       "    </tr>\n",
       "    <tr>\n",
       "      <th>max</th>\n",
       "      <td>2.023572</td>\n",
       "      <td>1.524936</td>\n",
       "      <td>0.0</td>\n",
       "      <td>1.940447</td>\n",
       "      <td>1.251910</td>\n",
       "      <td>0.313149</td>\n",
       "      <td>3.252060</td>\n",
       "    </tr>\n",
       "  </tbody>\n",
       "</table>\n",
       "</div>"
      ],
      "text/plain": [
       "Model  L1 Weight 1  L1 Weight 10  L1 Weight 100  L2 Weight 1  L2 Weight 10  \\\n",
       "count    24.000000     24.000000           24.0    24.000000     24.000000   \n",
       "mean     -0.006191      0.049999            0.0     0.024511      0.027399   \n",
       "std       0.855183      0.321074            0.0     0.848559      0.368105   \n",
       "min      -1.629862     -0.324971            0.0    -1.349961     -0.416107   \n",
       "25%      -0.464569      0.000000            0.0    -0.681460     -0.222340   \n",
       "50%       0.000000      0.000000            0.0     0.055260     -0.039140   \n",
       "75%       0.556531      0.000000            0.0     0.705405      0.170885   \n",
       "max       2.023572      1.524936            0.0     1.940447      1.251910   \n",
       "\n",
       "Model  L2 Weight 100  Unregularized  \n",
       "count      24.000000      24.000000  \n",
       "mean        0.009287      -0.127743  \n",
       "std         0.080717       3.529619  \n",
       "min        -0.072580      -7.831663  \n",
       "25%        -0.042573      -0.483395  \n",
       "50%        -0.007534       1.284660  \n",
       "75%         0.020906       2.121992  \n",
       "max         0.313149       3.252060  "
      ]
     },
     "execution_count": 35,
     "metadata": {},
     "output_type": "execute_result"
    },
    {
     "data": {
      "image/png": "[encoded data removed]",
      "text/plain": [
       "<matplotlib.figure.Figure at 0x11536f490>"
      ]
     },
     "metadata": {},
     "output_type": "display_data"
    }
   ],
   "source": [
    "fig, ax = plt.subplots(figsize=(11,5))\n",
    "sns.boxplot(y=\"Coefficient\", x=\"Model\" ,data=regularized_coefficients,orient=\"v\",ax=ax)\n",
    "\n",
    "regularized_coefficients.pivot(\"Label\",\"Model\",\"Coefficient\").describe()"
   ]
  },
  {
   "cell_type": "markdown",
   "metadata": {
    "focus": false,
    "id": "3be94357-e551-4094-b784-2df039216d33"
   },
   "source": [
    "## Additional Automatically-Generated Features"
   ]
  },
  {
   "cell_type": "markdown",
   "metadata": {
    "focus": false,
    "id": "db045898-1d2d-4af2-8e79-437c4c7546b4"
   },
   "source": [
    "#### Feature Generation\n",
    "\n",
    "To improve the fit, I will attempt to automatically generate additional features.  I create a list of all unique words that appear in the \"title\" and \"summary\" columns, removing punctuation using the \"CountVectorizer\" function.  I then generate binary features for each selected word, with \"1\" indicating presence and \"0\" indicating absence.\n",
    "\n",
    "I then apply two cuts to determine which words will be used as binary feature.  The first is the total number of entries a word appears in, while the second is the absolute value of the difference between the percentage of entries containing that word that have high salaries and the overall percentage.  These are both expected to be rough indicators of the significance of individual words."
   ]
  },
  {
   "cell_type": "code",
   "execution_count": 36,
   "metadata": {
    "collapsed": false
   },
   "outputs": [],
   "source": [
    "from  sklearn.feature_extraction.text import CountVectorizer\n",
    "\n",
    "tokenizer = CountVectorizer().build_tokenizer()\n",
    "\n",
    "jobs[\"summary_tokenized\"] = jobs[\"summary\"].apply(tokenizer)\n",
    "jobs[\"title_tokenized\"] = jobs[\"title\"].apply(tokenizer)\n",
    "\n",
    "summary_unique_words = list(set(sum(list(jobs[\"summary_tokenized\"]),[])))\n",
    "title_unique_words = list(set(sum(list(jobs[\"title_tokenized\"]),[])))\n",
    "\n",
    "def cut_word_lists(min_entries, cut_threshold):\n",
    "    summary_cut = [word for word in summary_unique_words if \\\n",
    "                   (jobs[jobs[\"summary\"].apply(lambda x:word in x)].shape[0] > min_entries and \\\n",
    "    abs(jobs[jobs[\"summary\"].apply(lambda x:word in x)][\"high_low\"].mean() - jobs[\"high_low\"].mean()) > cut_threshold)]\n",
    "\n",
    "    title_cut = [word for word in title_unique_words if \\\n",
    "                 (jobs[jobs[\"title\"].apply(lambda x:word in x)].shape[0] > min_entries and \\\n",
    "    abs(jobs[jobs[\"title\"].apply(lambda x:word in x)][\"high_low\"].mean() - jobs[\"high_low\"].mean()) > cut_threshold)]\n",
    "    \n",
    "    return (summary_cut,title_cut)\n",
    "\n",
    "def cut_dataset(min_entries, cut_threshold):\n",
    "    y = jobs[\"high_low\"]\n",
    "    X = pd.get_dummies(jobs[\"city\"],columns=[\"city\"])\n",
    "    X = sm.add_constant(X, prepend=False)\n",
    "\n",
    "    summary_cut,title_cut = cut_word_lists(min_entries,cut_threshold)\n",
    "\n",
    "    for word in summary_cut:\n",
    "        X[\"summary_\"+word] = jobs[\"summary\"].apply(lambda x:int(word in \" \".join(tokenizer(x))))\n",
    "    \n",
    "    for word in title_cut:\n",
    "        X[\"title_\"+word] = jobs[\"title\"].apply(lambda x:int(word in \" \".join(tokenizer(x))))\n",
    "        \n",
    "    return (X,y,len(summary_cut),len(title_cut))"
   ]
  },
  {
   "cell_type": "markdown",
   "metadata": {},
   "source": [
    "Using the cuts described above, I generate the summary measures in the ranges given by \"num_words_range\" and \"freq_range\" using L2 regularization with a weight of 100.  Summary plots are included below."
   ]
  },
  {
   "cell_type": "code",
   "execution_count": 37,
   "metadata": {
    "collapsed": false,
    "focus": false,
    "id": "fec80936-37bc-4922-89bd-b5d615566c9c"
   },
   "outputs": [],
   "source": [
    "num_words_range = range(0,21,2)\n",
    "freq_range = range(0,401,25)\n",
    "\n",
    "measures = []\n",
    "\n",
    "for word_cut in num_words_range:\n",
    "    for freq in freq_range:\n",
    "        freq_cut = 1.0 * freq / 1000\n",
    "\n",
    "        regression_for_cv = LogisticRegressionCV(penalty='l2',solver='liblinear',fit_intercept=False,Cs=[0.01])\n",
    "\n",
    "        (X,y,summary_words,title_words) = cut_dataset(word_cut,freq_cut)\n",
    "\n",
    "        measures.append({\\\n",
    "            \"Word Cut\":word_cut,\\\n",
    "            \"Significance Cut\":freq_cut,\\\n",
    "            \"Summary Words\":summary_words,\\\n",
    "            \"Title Words\":title_words,\\\n",
    "            \"Accuracy\":np.mean(cross_val_score(regression_for_cv,X,y,cv=10,scoring='accuracy')),\\\n",
    "            \"ROC AUC\":np.mean(cross_val_score(regression_for_cv,X,y,cv=10,scoring='roc_auc')),\\\n",
    "            \"Precision\":np.mean(cross_val_score(regression_for_cv,X,y,cv=10,scoring='precision')),\\\n",
    "            \"Recall\":np.mean(cross_val_score(regression_for_cv,X,y,cv=10,scoring='recall')),\\\n",
    "            \"F1\":np.mean(cross_val_score(regression_for_cv,X,y,cv=10,scoring='f1'))})\n",
    "\n",
    "measures = pd.DataFrame(measures)\n",
    "measures = measures[[\"Word Cut\",\"Significance Cut\",\"Summary Words\",\"Title Words\",\n",
    "                     \"Accuracy\",\"ROC AUC\",\"Precision\",\"Recall\",\"F1\"]]"
   ]
  },
  {
   "cell_type": "code",
   "execution_count": 50,
   "metadata": {
    "collapsed": false
   },
   "outputs": [
    {
     "data": {
      "text/html": [
       "<div>\n",
       "<table border=\"1\" class=\"dataframe\">\n",
       "  <thead>\n",
       "    <tr style=\"text-align: right;\">\n",
       "      <th></th>\n",
       "      <th>Word Cut</th>\n",
       "      <th>Significance Cut</th>\n",
       "      <th>Summary Words</th>\n",
       "      <th>Title Words</th>\n",
       "      <th>Accuracy</th>\n",
       "      <th>ROC AUC</th>\n",
       "      <th>Precision</th>\n",
       "      <th>Recall</th>\n",
       "      <th>F1</th>\n",
       "    </tr>\n",
       "  </thead>\n",
       "  <tbody>\n",
       "    <tr>\n",
       "      <th>0</th>\n",
       "      <td>0</td>\n",
       "      <td>0.000</td>\n",
       "      <td>2144</td>\n",
       "      <td>508</td>\n",
       "      <td>0.754597</td>\n",
       "      <td>0.836955</td>\n",
       "      <td>0.777773</td>\n",
       "      <td>0.693684</td>\n",
       "      <td>0.728932</td>\n",
       "    </tr>\n",
       "    <tr>\n",
       "      <th>1</th>\n",
       "      <td>0</td>\n",
       "      <td>0.025</td>\n",
       "      <td>1957</td>\n",
       "      <td>488</td>\n",
       "      <td>0.766917</td>\n",
       "      <td>0.848622</td>\n",
       "      <td>0.783983</td>\n",
       "      <td>0.718684</td>\n",
       "      <td>0.746072</td>\n",
       "    </tr>\n",
       "    <tr>\n",
       "      <th>2</th>\n",
       "      <td>0</td>\n",
       "      <td>0.050</td>\n",
       "      <td>1927</td>\n",
       "      <td>486</td>\n",
       "      <td>0.774109</td>\n",
       "      <td>0.855677</td>\n",
       "      <td>0.764429</td>\n",
       "      <td>0.789474</td>\n",
       "      <td>0.770005</td>\n",
       "    </tr>\n",
       "    <tr>\n",
       "      <th>3</th>\n",
       "      <td>0</td>\n",
       "      <td>0.075</td>\n",
       "      <td>1897</td>\n",
       "      <td>482</td>\n",
       "      <td>0.778987</td>\n",
       "      <td>0.862155</td>\n",
       "      <td>0.769237</td>\n",
       "      <td>0.794474</td>\n",
       "      <td>0.775603</td>\n",
       "    </tr>\n",
       "    <tr>\n",
       "      <th>4</th>\n",
       "      <td>0</td>\n",
       "      <td>0.100</td>\n",
       "      <td>1860</td>\n",
       "      <td>475</td>\n",
       "      <td>0.786304</td>\n",
       "      <td>0.864060</td>\n",
       "      <td>0.775607</td>\n",
       "      <td>0.799211</td>\n",
       "      <td>0.782142</td>\n",
       "    </tr>\n",
       "  </tbody>\n",
       "</table>\n",
       "</div>"
      ],
      "text/plain": [
       "   Word Cut  Significance Cut  Summary Words  Title Words  Accuracy   ROC AUC  \\\n",
       "0         0             0.000           2144          508  0.754597  0.836955   \n",
       "1         0             0.025           1957          488  0.766917  0.848622   \n",
       "2         0             0.050           1927          486  0.774109  0.855677   \n",
       "3         0             0.075           1897          482  0.778987  0.862155   \n",
       "4         0             0.100           1860          475  0.786304  0.864060   \n",
       "\n",
       "   Precision    Recall        F1  \n",
       "0   0.777773  0.693684  0.728932  \n",
       "1   0.783983  0.718684  0.746072  \n",
       "2   0.764429  0.789474  0.770005  \n",
       "3   0.769237  0.794474  0.775603  \n",
       "4   0.775607  0.799211  0.782142  "
      ]
     },
     "execution_count": 50,
     "metadata": {},
     "output_type": "execute_result"
    }
   ],
   "source": [
    "measures.head()"
   ]
  },
  {
   "cell_type": "code",
   "execution_count": 44,
   "metadata": {
    "collapsed": false
   },
   "outputs": [
    {
     "data": {
      "text/plain": [
       "<matplotlib.axes._subplots.AxesSubplot at 0x113272c50>"
      ]
     },
     "execution_count": 44,
     "metadata": {},
     "output_type": "execute_result"
    },
    {
     "data": {
      "image/png": "[encoded data removed]",
      "text/plain": [
       "<matplotlib.figure.Figure at 0x113272f90>"
      ]
     },
     "metadata": {},
     "output_type": "display_data"
    }
   ],
   "source": [
    "sns.heatmap(measures.pivot(\"Significance Cut\",\"Word Cut\",\"Title Words\"))"
   ]
  },
  {
   "cell_type": "code",
   "execution_count": 45,
   "metadata": {
    "collapsed": false
   },
   "outputs": [
    {
     "data": {
      "text/plain": [
       "<matplotlib.axes._subplots.AxesSubplot at 0x1142a7a90>"
      ]
     },
     "execution_count": 45,
     "metadata": {},
     "output_type": "execute_result"
    },
    {
     "data": {
      "image/png": "[encoded data removed]",
      "text/plain": [
       "<matplotlib.figure.Figure at 0x1133c5390>"
      ]
     },
     "metadata": {},
     "output_type": "display_data"
    }
   ],
   "source": [
    "sns.heatmap(measures.pivot(\"Significance Cut\",\"Word Cut\",\"Summary Words\"))"
   ]
  },
  {
   "cell_type": "code",
   "execution_count": 46,
   "metadata": {
    "collapsed": false
   },
   "outputs": [
    {
     "data": {
      "text/plain": [
       "<matplotlib.axes._subplots.AxesSubplot at 0x114ac7f90>"
      ]
     },
     "execution_count": 46,
     "metadata": {},
     "output_type": "execute_result"
    },
    {
     "data": {
      "image/png": "[encoded data removed]",
      "text/plain": [
       "<matplotlib.figure.Figure at 0x11573f2d0>"
      ]
     },
     "metadata": {},
     "output_type": "display_data"
    }
   ],
   "source": [
    "sns.heatmap(measures.pivot(\"Significance Cut\",\"Word Cut\",\"Accuracy\"))"
   ]
  },
  {
   "cell_type": "code",
   "execution_count": 47,
   "metadata": {
    "collapsed": false
   },
   "outputs": [
    {
     "data": {
      "text/plain": [
       "<matplotlib.axes._subplots.AxesSubplot at 0x11424a650>"
      ]
     },
     "execution_count": 47,
     "metadata": {},
     "output_type": "execute_result"
    },
    {
     "data": {
      "image/png": "[encoded data removed]",
      "text/plain": [
       "<matplotlib.figure.Figure at 0x1132b1890>"
      ]
     },
     "metadata": {},
     "output_type": "display_data"
    }
   ],
   "source": [
    "sns.heatmap(measures.pivot(\"Significance Cut\",\"Word Cut\",\"F1\"))"
   ]
  },
  {
   "cell_type": "markdown",
   "metadata": {},
   "source": [
    "#### Interpretation of Results\n",
    "\n",
    "Interestingly, the best results for accuracy and F1 score occure with no word cut and a high significance cut.  The high significance cut is intuitively reasonable, as it is effectively a selection against common words which appear in sentences regardless of the sentence meaning, and thus should have no effect on the fit.  The best results for the word cut being no cut is more perplexing; one might expect that word which are present in only one or two entries would produce odd coefficients which would result in a poor fit during cross-validation.  It is possible that the L2 regularization scheme reduces this effect given the vast number of coefficients in play, up to more than 2500 for the weakest cuts.  However, even with cuts in place there are many models in the plots above with accuracies above 80% and high F1-scores.\n",
    "\n",
    "The best values for out of sample accuracy and F1-score occur for the same cut values, namely a word cut of zero and a significance cut of 0.325.  All performance measures at this value are superior to the measures from the more conservative set of features considered above.  I also consider the best models for accuracy and F1-score with less than a hundred summary words as a proxy for performance with a more reasonable number of features, and the performance is still substantially better than the simple models considered previously."
   ]
  },
  {
   "cell_type": "code",
   "execution_count": 56,
   "metadata": {
    "collapsed": false
   },
   "outputs": [
    {
     "data": {
      "text/html": [
       "<div>\n",
       "<table border=\"1\" class=\"dataframe\">\n",
       "  <thead>\n",
       "    <tr style=\"text-align: right;\">\n",
       "      <th></th>\n",
       "      <th>Word Cut</th>\n",
       "      <th>Significance Cut</th>\n",
       "      <th>Summary Words</th>\n",
       "      <th>Title Words</th>\n",
       "      <th>Accuracy</th>\n",
       "      <th>ROC AUC</th>\n",
       "      <th>Precision</th>\n",
       "      <th>Recall</th>\n",
       "      <th>F1</th>\n",
       "    </tr>\n",
       "  </thead>\n",
       "  <tbody>\n",
       "    <tr>\n",
       "      <th>13</th>\n",
       "      <td>0</td>\n",
       "      <td>0.325</td>\n",
       "      <td>1512</td>\n",
       "      <td>413</td>\n",
       "      <td>0.83571</td>\n",
       "      <td>0.93354</td>\n",
       "      <td>0.884782</td>\n",
       "      <td>0.774737</td>\n",
       "      <td>0.819195</td>\n",
       "    </tr>\n",
       "  </tbody>\n",
       "</table>\n",
       "</div>"
      ],
      "text/plain": [
       "    Word Cut  Significance Cut  Summary Words  Title Words  Accuracy  ROC AUC  \\\n",
       "13         0             0.325           1512          413   0.83571  0.93354   \n",
       "\n",
       "    Precision    Recall        F1  \n",
       "13   0.884782  0.774737  0.819195  "
      ]
     },
     "execution_count": 56,
     "metadata": {},
     "output_type": "execute_result"
    }
   ],
   "source": [
    "measures[measures[\"Accuracy\"] == measures[\"Accuracy\"].max()]"
   ]
  },
  {
   "cell_type": "code",
   "execution_count": 57,
   "metadata": {
    "collapsed": false
   },
   "outputs": [
    {
     "data": {
      "text/html": [
       "<div>\n",
       "<table border=\"1\" class=\"dataframe\">\n",
       "  <thead>\n",
       "    <tr style=\"text-align: right;\">\n",
       "      <th></th>\n",
       "      <th>Word Cut</th>\n",
       "      <th>Significance Cut</th>\n",
       "      <th>Summary Words</th>\n",
       "      <th>Title Words</th>\n",
       "      <th>Accuracy</th>\n",
       "      <th>ROC AUC</th>\n",
       "      <th>Precision</th>\n",
       "      <th>Recall</th>\n",
       "      <th>F1</th>\n",
       "    </tr>\n",
       "  </thead>\n",
       "  <tbody>\n",
       "    <tr>\n",
       "      <th>13</th>\n",
       "      <td>0</td>\n",
       "      <td>0.325</td>\n",
       "      <td>1512</td>\n",
       "      <td>413</td>\n",
       "      <td>0.83571</td>\n",
       "      <td>0.93354</td>\n",
       "      <td>0.884782</td>\n",
       "      <td>0.774737</td>\n",
       "      <td>0.819195</td>\n",
       "    </tr>\n",
       "  </tbody>\n",
       "</table>\n",
       "</div>"
      ],
      "text/plain": [
       "    Word Cut  Significance Cut  Summary Words  Title Words  Accuracy  ROC AUC  \\\n",
       "13         0             0.325           1512          413   0.83571  0.93354   \n",
       "\n",
       "    Precision    Recall        F1  \n",
       "13   0.884782  0.774737  0.819195  "
      ]
     },
     "execution_count": 57,
     "metadata": {},
     "output_type": "execute_result"
    }
   ],
   "source": [
    "measures[measures[\"F1\"] == measures[\"F1\"].max()]"
   ]
  },
  {
   "cell_type": "code",
   "execution_count": 63,
   "metadata": {
    "collapsed": false
   },
   "outputs": [
    {
     "data": {
      "text/html": [
       "<div>\n",
       "<table border=\"1\" class=\"dataframe\">\n",
       "  <thead>\n",
       "    <tr style=\"text-align: right;\">\n",
       "      <th></th>\n",
       "      <th>Word Cut</th>\n",
       "      <th>Significance Cut</th>\n",
       "      <th>Summary Words</th>\n",
       "      <th>Title Words</th>\n",
       "      <th>Accuracy</th>\n",
       "      <th>ROC AUC</th>\n",
       "      <th>Precision</th>\n",
       "      <th>Recall</th>\n",
       "      <th>F1</th>\n",
       "    </tr>\n",
       "  </thead>\n",
       "  <tbody>\n",
       "    <tr>\n",
       "      <th>48</th>\n",
       "      <td>4</td>\n",
       "      <td>0.35</td>\n",
       "      <td>87</td>\n",
       "      <td>28</td>\n",
       "      <td>0.806316</td>\n",
       "      <td>0.902838</td>\n",
       "      <td>0.88057</td>\n",
       "      <td>0.714474</td>\n",
       "      <td>0.774942</td>\n",
       "    </tr>\n",
       "  </tbody>\n",
       "</table>\n",
       "</div>"
      ],
      "text/plain": [
       "    Word Cut  Significance Cut  Summary Words  Title Words  Accuracy  \\\n",
       "48         4              0.35             87           28  0.806316   \n",
       "\n",
       "     ROC AUC  Precision    Recall        F1  \n",
       "48  0.902838    0.88057  0.714474  0.774942  "
      ]
     },
     "execution_count": 63,
     "metadata": {},
     "output_type": "execute_result"
    }
   ],
   "source": [
    "rm = measures[measures[\"Summary Words\"] < 100]\n",
    "rm[rm[\"Accuracy\"] == rm[\"Accuracy\"].max()]"
   ]
  },
  {
   "cell_type": "code",
   "execution_count": 62,
   "metadata": {
    "collapsed": false
   },
   "outputs": [
    {
     "data": {
      "text/html": [
       "<div>\n",
       "<table border=\"1\" class=\"dataframe\">\n",
       "  <thead>\n",
       "    <tr style=\"text-align: right;\">\n",
       "      <th></th>\n",
       "      <th>Word Cut</th>\n",
       "      <th>Significance Cut</th>\n",
       "      <th>Summary Words</th>\n",
       "      <th>Title Words</th>\n",
       "      <th>Accuracy</th>\n",
       "      <th>ROC AUC</th>\n",
       "      <th>Precision</th>\n",
       "      <th>Recall</th>\n",
       "      <th>F1</th>\n",
       "    </tr>\n",
       "  </thead>\n",
       "  <tbody>\n",
       "    <tr>\n",
       "      <th>63</th>\n",
       "      <td>6</td>\n",
       "      <td>0.3</td>\n",
       "      <td>67</td>\n",
       "      <td>29</td>\n",
       "      <td>0.803377</td>\n",
       "      <td>0.869906</td>\n",
       "      <td>0.80946</td>\n",
       "      <td>0.789211</td>\n",
       "      <td>0.793694</td>\n",
       "    </tr>\n",
       "  </tbody>\n",
       "</table>\n",
       "</div>"
      ],
      "text/plain": [
       "    Word Cut  Significance Cut  Summary Words  Title Words  Accuracy  \\\n",
       "63         6               0.3             67           29  0.803377   \n",
       "\n",
       "     ROC AUC  Precision    Recall        F1  \n",
       "63  0.869906    0.80946  0.789211  0.793694  "
      ]
     },
     "execution_count": 62,
     "metadata": {},
     "output_type": "execute_result"
    }
   ],
   "source": [
    "rm = measures[measures[\"Summary Words\"] < 100]\n",
    "rm[rm[\"F1\"] == rm[\"F1\"].max()]"
   ]
  },
  {
   "cell_type": "markdown",
   "metadata": {},
   "source": [
    "## Conclusions"
   ]
  },
  {
   "cell_type": "markdown",
   "metadata": {},
   "source": [
    "Using logistic regression, I have identified models for determining whether a given job posting in the data science field is high or low paying based upon location and words present in the title and summary entries of the posting.  I have considered models using only the job location, a presence or absence small hand-selected set of words in the title, and presence or absence of a larger automatically-generated set of words.  The best of the automatically generated models produced the best results, with the best have an accuracy of 83%, precision of 88%, and recall of 77%.  In layman's terms, this implies that 83% of the results of the model are expected to be correct, 88% of the jobs suggested highlighted by the model are expected to be high paying, and it is expected to identify 77% of the true high-paying jobs.   \n",
    "\n",
    "However, there are some underlying concerns with the results from the larger feature selection algorithm.  The number of features for the best this case vastly outnumbers the number of entries.  Moreover, the features vectors are extremely sparse.  As such, the results may not be generalizable to larger data sets.  As such, I recommend either using a larger set of job data to produce more reliable results, as the number of unique words contained in the job titles and summaries should increase at a significantly less than linear rate with the number of entries.  It might also be reasonable to use a more conservative model with less features, some of which still have have both accuracy and precision above 80%."
   ]
  }
 ],
 "metadata": {
  "anaconda-cloud": {},
  "kernelspec": {
   "display_name": "Python [default]",
   "language": "python",
   "name": "python2"
  },
  "language_info": {
   "codemirror_mode": {
    "name": "ipython",
    "version": 2
   },
   "file_extension": ".py",
   "mimetype": "text/x-python",
   "name": "python",
   "nbconvert_exporter": "python",
   "pygments_lexer": "ipython2",
   "version": "2.7.12"
  }
 },
 "nbformat": 4,
 "nbformat_minor": 0
}
