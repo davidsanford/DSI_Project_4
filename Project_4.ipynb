{
 "cells": [
  {
   "cell_type": "markdown",
   "metadata": {
    "focus": false,
    "id": "69b9a648-bcc7-490d-9f9b-ea244d156bd6"
   },
   "source": [
    "# Web Scraping for Indeed.com & Predicting Salaries"
   ]
  },
  {
   "cell_type": "markdown",
   "metadata": {
    "focus": false,
    "id": "34681254-c802-462f-829d-8894d0772d08"
   },
   "source": [
    "In this project, we will practice two major skills: collecting data by scraping a website and then building a binary predictor with Logistic Regression.\n",
    "\n",
    "We are going to collect salary information on data science jobs in a variety of markets. Then using the location, title and summary of the job we will attempt to predict the salary of the job. For job posting sites, this would be extraordinarily useful. While most listings DO NOT come with salary information (as you will see in this exercise), being to able extrapolate or predict the expected salaries from other listings can help guide negotiations.\n",
    "\n",
    "Normally, we could use regression for this task; however, we will convert this problem into classification and use Logistic Regression.\n",
    "\n",
    "- Question: Why would we want this to be a classification problem?\n",
    "- Answer: While more precision may be better, there is a fair amount of natural variance in job salaries - predicting a range be may be useful.\n",
    "\n",
    "Therefore, the first part of the assignment will be focused on scraping Indeed.com. In the second, we'll focus on using listings with salary information to build a model and predict additional salaries."
   ]
  },
  {
   "cell_type": "markdown",
   "metadata": {
    "focus": false,
    "id": "04563b69-f7b6-466f-9d65-fc62c9ddee6a"
   },
   "source": [
    "## Predicting salaries using Logistic Regression"
   ]
  },
  {
   "cell_type": "markdown",
   "metadata": {
    "focus": false,
    "id": "243e949e-2742-40af-872e-fec475fd306c"
   },
   "source": [
    "#### Load in the the data of scraped salaries"
   ]
  },
  {
   "cell_type": "code",
   "execution_count": 87,
   "metadata": {
    "collapsed": false,
    "focus": false,
    "id": "588f9845-6143-4bcc-bfd1-85d45b79303d"
   },
   "outputs": [],
   "source": [
    "import numpy as np\n",
    "import pandas as pd\n",
    "import sklearn\n",
    "from sklearn.model_selection import train_test_split\n",
    "from sklearn.model_selection import cross_val_score\n",
    "import statsmodels.api as sm\n",
    "from sklearn.linear_model import LogisticRegression\n",
    "from sklearn.linear_model import LogisticRegressionCV\n",
    "\n",
    "\n",
    "\n",
    "import matplotlib as plt\n",
    "import seaborn as sns\n",
    "%matplotlib inline"
   ]
  },
  {
   "cell_type": "code",
   "execution_count": 51,
   "metadata": {
    "collapsed": false
   },
   "outputs": [],
   "source": [
    "#pd.read_csv(\"assets/20001datasciencejobs.csv\")\n",
    "jobs = pd.read_csv(\"assets/indeed-scraped-job-postings.csv\")"
   ]
  },
  {
   "cell_type": "code",
   "execution_count": 52,
   "metadata": {
    "collapsed": false
   },
   "outputs": [
    {
     "name": "stdout",
     "output_type": "stream",
     "text": [
      "<class 'pandas.core.frame.DataFrame'>\n",
      "RangeIndex: 413 entries, 0 to 412\n",
      "Data columns (total 6 columns):\n",
      "city             413 non-null object\n",
      "company          413 non-null object\n",
      "salary           413 non-null object\n",
      "summary          413 non-null object\n",
      "title            413 non-null object\n",
      "parsed_salary    406 non-null float64\n",
      "dtypes: float64(1), object(5)\n",
      "memory usage: 19.4+ KB\n",
      "None\n",
      "       parsed_salary\n",
      "count     406.000000\n",
      "mean   107762.695813\n",
      "std     48931.367632\n",
      "min     10000.000000\n",
      "25%     70000.000000\n",
      "50%    100000.000000\n",
      "75%    142164.500000\n",
      "max    300000.000000\n"
     ]
    },
    {
     "data": {
      "text/html": [
       "<div>\n",
       "<table border=\"1\" class=\"dataframe\">\n",
       "  <thead>\n",
       "    <tr style=\"text-align: right;\">\n",
       "      <th></th>\n",
       "      <th>city</th>\n",
       "      <th>company</th>\n",
       "      <th>salary</th>\n",
       "      <th>summary</th>\n",
       "      <th>title</th>\n",
       "      <th>parsed_salary</th>\n",
       "    </tr>\n",
       "  </thead>\n",
       "  <tbody>\n",
       "    <tr>\n",
       "      <th>0</th>\n",
       "      <td>Denver</td>\n",
       "      <td>Department Of The Interior</td>\n",
       "      <td>$76,341 - $99,243 a year</td>\n",
       "      <td>Would you like to join the more than 10,000 sc...</td>\n",
       "      <td>Statistician, GS-1350-12 (DEU-PERM-DS)</td>\n",
       "      <td>87792.0</td>\n",
       "    </tr>\n",
       "    <tr>\n",
       "      <th>1</th>\n",
       "      <td>Denver</td>\n",
       "      <td>Department Of The Interior</td>\n",
       "      <td>$71,012 - $99,243 a year</td>\n",
       "      <td>Investigate potential uses of geospatial data ...</td>\n",
       "      <td>Interdisciplinary Cartographer/Geographer - GS...</td>\n",
       "      <td>85127.5</td>\n",
       "    </tr>\n",
       "    <tr>\n",
       "      <th>2</th>\n",
       "      <td>Denver</td>\n",
       "      <td>Mental Health Center of Denver</td>\n",
       "      <td>$70,000 - $80,000 a year</td>\n",
       "      <td>Advise the Data Developer with regard to creat...</td>\n",
       "      <td>Financial Data Scientist</td>\n",
       "      <td>75000.0</td>\n",
       "    </tr>\n",
       "    <tr>\n",
       "      <th>3</th>\n",
       "      <td>Denver</td>\n",
       "      <td>Denver Public Schools</td>\n",
       "      <td>$62,712 - $75,255 a year</td>\n",
       "      <td>Portal managers on student outcome data report...</td>\n",
       "      <td>SENIOR RESEARCH ANALYST</td>\n",
       "      <td>68983.5</td>\n",
       "    </tr>\n",
       "    <tr>\n",
       "      <th>4</th>\n",
       "      <td>Denver</td>\n",
       "      <td>University of Colorado</td>\n",
       "      <td>$25,000 - $29,000 a year</td>\n",
       "      <td>Experience entering and manipulating data in a...</td>\n",
       "      <td>Animal Care I</td>\n",
       "      <td>27000.0</td>\n",
       "    </tr>\n",
       "  </tbody>\n",
       "</table>\n",
       "</div>"
      ],
      "text/plain": [
       "     city                         company                    salary  \\\n",
       "0  Denver      Department Of The Interior  $76,341 - $99,243 a year   \n",
       "1  Denver      Department Of The Interior  $71,012 - $99,243 a year   \n",
       "2  Denver  Mental Health Center of Denver  $70,000 - $80,000 a year   \n",
       "3  Denver           Denver Public Schools  $62,712 - $75,255 a year   \n",
       "4  Denver          University of Colorado  $25,000 - $29,000 a year   \n",
       "\n",
       "                                             summary  \\\n",
       "0  Would you like to join the more than 10,000 sc...   \n",
       "1  Investigate potential uses of geospatial data ...   \n",
       "2  Advise the Data Developer with regard to creat...   \n",
       "3  Portal managers on student outcome data report...   \n",
       "4  Experience entering and manipulating data in a...   \n",
       "\n",
       "                                               title  parsed_salary  \n",
       "0             Statistician, GS-1350-12 (DEU-PERM-DS)        87792.0  \n",
       "1  Interdisciplinary Cartographer/Geographer - GS...        85127.5  \n",
       "2                           Financial Data Scientist        75000.0  \n",
       "3                            SENIOR RESEARCH ANALYST        68983.5  \n",
       "4                                      Animal Care I        27000.0  "
      ]
     },
     "execution_count": 52,
     "metadata": {},
     "output_type": "execute_result"
    }
   ],
   "source": [
    "print jobs.info()\n",
    "print jobs.describe()\n",
    "jobs.head()"
   ]
  },
  {
   "cell_type": "code",
   "execution_count": 53,
   "metadata": {
    "collapsed": false
   },
   "outputs": [
    {
     "data": {
      "text/plain": [
       "<matplotlib.axes._subplots.AxesSubplot at 0x115483310>"
      ]
     },
     "execution_count": 53,
     "metadata": {},
     "output_type": "execute_result"
    },
    {
     "data": {
      "image/png": "[encoded data removed]",
      "text/plain": [
       "<matplotlib.figure.Figure at 0x11547bf90>"
      ]
     },
     "metadata": {},
     "output_type": "display_data"
    }
   ],
   "source": [
    "jobs.groupby([\"company\"]).agg(\"count\")[\"city\"].hist()"
   ]
  },
  {
   "cell_type": "markdown",
   "metadata": {
    "focus": false,
    "id": "c7631f51-07f2-4c79-a093-3e9bc7849a48"
   },
   "source": [
    "#### We want to predict a binary variable - whether the salary was low or high. Compute the median salary and create a new binary variable that is true when the salary is high (above the median)\n",
    "\n",
    "We could also perform Linear Regression (or any regression) to predict the salary value here. Instead, we are going to convert this into a _binary_ classification problem, by predicting two classes, HIGH vs LOW salary.\n",
    "\n",
    "While performing regression may be better, performing classification may help remove some of the noise of the extreme salaries. We don't have to choice the `median` as the splitting point - we could also split on the 75th percentile or any other reasonable breaking point.\n",
    "\n",
    "In fact, the ideal scenario may be to predict many levels of salaries, "
   ]
  },
  {
   "cell_type": "code",
   "execution_count": 54,
   "metadata": {
    "collapsed": false,
    "focus": false,
    "id": "c20d2498-151c-44c3-a453-3a333c79a0ac"
   },
   "outputs": [
    {
     "name": "stdout",
     "output_type": "stream",
     "text": [
      "Mean of parsed salaries: 107762.695813\n",
      "Median of parsed salaries: 100000.0\n"
     ]
    },
    {
     "data": {
      "text/plain": [
       "<matplotlib.axes._subplots.AxesSubplot at 0x1154e2310>"
      ]
     },
     "execution_count": 54,
     "metadata": {},
     "output_type": "execute_result"
    },
    {
     "data": {
      "image/png": "[encoded data removed]",
      "text/plain": [
       "<matplotlib.figure.Figure at 0x1153e8590>"
      ]
     },
     "metadata": {},
     "output_type": "display_data"
    }
   ],
   "source": [
    "## YOUR CODE HERE\n",
    "print \"Mean of parsed salaries:\",jobs[\"parsed_salary\"].mean()\n",
    "print \"Median of parsed salaries:\",jobs[\"parsed_salary\"].median()\n",
    "sns.boxplot(jobs[\"parsed_salary\"])"
   ]
  },
  {
   "cell_type": "code",
   "execution_count": 55,
   "metadata": {
    "collapsed": false
   },
   "outputs": [],
   "source": [
    "jobs[\"high_low\"] = jobs[\"parsed_salary\"].apply(lambda x: 1 if x > jobs[\"parsed_salary\"].median() else 0)"
   ]
  },
  {
   "cell_type": "markdown",
   "metadata": {
    "focus": false,
    "id": "a7afb2c0-d41e-4779-8216-91cd8dd4473f"
   },
   "source": [
    "#### Thought experiment: What is the baseline accuracy for this model?"
   ]
  },
  {
   "cell_type": "code",
   "execution_count": 56,
   "metadata": {
    "collapsed": false,
    "focus": false,
    "id": "87a17d3d-b7f4-4747-9f75-f9af1d18a174"
   },
   "outputs": [
    {
     "name": "stdout",
     "output_type": "stream",
     "text": [
      "The baseline accuracy is given by predicting all results to be in the most prominent class.\n",
      "In this case it is given by: 0.512315270936\n"
     ]
    }
   ],
   "source": [
    "## YOUR CODE HERE\n",
    "class_sizes = list(jobs[jobs[\"parsed_salary\"].isnull() == False].groupby(\"high_low\").agg('count')[\"parsed_salary\"])\n",
    "baseline_accuracy = max(class_sizes) * 1.0 / sum(class_sizes)\n",
    "print \"The baseline accuracy is given by predicting all results to be in the most prominent class.\\n\\\n",
    "In this case it is given by:\",baseline_accuracy"
   ]
  },
  {
   "cell_type": "markdown",
   "metadata": {
    "focus": false,
    "id": "4fb29de2-5b98-474c-a4ad-5170b72b9aea"
   },
   "source": [
    "#### Create a Logistic Regression model to predict High/Low salary using statsmodel. Start by ONLY using the location as a feature. Display the coefficients and write a short summary of what they mean."
   ]
  },
  {
   "cell_type": "code",
   "execution_count": 57,
   "metadata": {
    "collapsed": false
   },
   "outputs": [
    {
     "name": "stdout",
     "output_type": "stream",
     "text": [
      "Warning: Maximum number of iterations has been exceeded.\n",
      "         Current function value: 0.593851\n",
      "         Iterations: 35\n"
     ]
    },
    {
     "name": "stderr",
     "output_type": "stream",
     "text": [
      "/Users/dsanford/anaconda/lib/python2.7/site-packages/statsmodels/base/model.py:466: ConvergenceWarning: Maximum Likelihood optimization failed to converge. Check mle_retvals\n",
      "  \"Check mle_retvals\", ConvergenceWarning)\n"
     ]
    }
   ],
   "source": [
    "y = jobs[\"high_low\"]\n",
    "X = pd.get_dummies(jobs[\"city\"],columns=[\"city\"])\n",
    "X = sm.add_constant(X, prepend=False)\n",
    "\n",
    "logistic_model = sm.Logit(endog=y,exog=X).fit()"
   ]
  },
  {
   "cell_type": "code",
   "execution_count": 49,
   "metadata": {
    "collapsed": false
   },
   "outputs": [
    {
     "name": "stdout",
     "output_type": "stream",
     "text": [
      "Model Accuracy:  0.661016949153\n"
     ]
    },
    {
     "data": {
      "text/html": [
       "<table class=\"simpletable\">\n",
       "<caption>Logit Regression Results</caption>\n",
       "<tr>\n",
       "  <th>Dep. Variable:</th>     <td>high_low</td>     <th>  No. Observations:  </th>  <td>   413</td>  \n",
       "</tr>\n",
       "<tr>\n",
       "  <th>Model:</th>               <td>Logit</td>      <th>  Df Residuals:      </th>  <td>   395</td>  \n",
       "</tr>\n",
       "<tr>\n",
       "  <th>Method:</th>               <td>MLE</td>       <th>  Df Model:          </th>  <td>    17</td>  \n",
       "</tr>\n",
       "<tr>\n",
       "  <th>Date:</th>          <td>Sat, 14 Jan 2017</td> <th>  Pseudo R-squ.:     </th>  <td>0.1422</td>  \n",
       "</tr>\n",
       "<tr>\n",
       "  <th>Time:</th>              <td>20:14:34</td>     <th>  Log-Likelihood:    </th> <td> -245.26</td> \n",
       "</tr>\n",
       "<tr>\n",
       "  <th>converged:</th>           <td>False</td>      <th>  LL-Null:           </th> <td> -285.92</td> \n",
       "</tr>\n",
       "<tr>\n",
       "  <th> </th>                      <td> </td>        <th>  LLR p-value:       </th> <td>2.234e-10</td>\n",
       "</tr>\n",
       "</table>\n",
       "<table class=\"simpletable\">\n",
       "<tr>\n",
       "        <td></td>           <th>coef</th>     <th>std err</th>      <th>z</th>      <th>P>|z|</th> <th>[95.0% Conf. Int.]</th> \n",
       "</tr>\n",
       "<tr>\n",
       "  <th>Atlanta</th>       <td>    8.8315</td> <td> 2.51e+06</td> <td> 3.52e-06</td> <td> 1.000</td> <td>-4.91e+06  4.91e+06</td>\n",
       "</tr>\n",
       "<tr>\n",
       "  <th>Austin</th>        <td>    9.8656</td> <td> 2.51e+06</td> <td> 3.94e-06</td> <td> 1.000</td> <td>-4.91e+06  4.91e+06</td>\n",
       "</tr>\n",
       "<tr>\n",
       "  <th>Boston</th>        <td>   10.9110</td> <td> 2.51e+06</td> <td> 4.35e-06</td> <td> 1.000</td> <td>-4.91e+06  4.91e+06</td>\n",
       "</tr>\n",
       "<tr>\n",
       "  <th>Chicago</th>       <td>   10.2645</td> <td> 2.51e+06</td> <td>  4.1e-06</td> <td> 1.000</td> <td>-4.91e+06  4.91e+06</td>\n",
       "</tr>\n",
       "<tr>\n",
       "  <th>Dallas</th>        <td>    9.4601</td> <td> 2.51e+06</td> <td> 3.78e-06</td> <td> 1.000</td> <td>-4.91e+06  4.91e+06</td>\n",
       "</tr>\n",
       "<tr>\n",
       "  <th>Denver</th>        <td>    8.6128</td> <td> 2.51e+06</td> <td> 3.44e-06</td> <td> 1.000</td> <td>-4.91e+06  4.91e+06</td>\n",
       "</tr>\n",
       "<tr>\n",
       "  <th>Houston</th>       <td>  -58.6093</td> <td> 2.85e+14</td> <td>-2.06e-13</td> <td> 1.000</td> <td>-5.58e+14  5.58e+14</td>\n",
       "</tr>\n",
       "<tr>\n",
       "  <th>Los+Angeles</th>   <td>   10.1533</td> <td> 2.51e+06</td> <td> 4.05e-06</td> <td> 1.000</td> <td>-4.91e+06  4.91e+06</td>\n",
       "</tr>\n",
       "<tr>\n",
       "  <th>Miami</th>         <td>    8.5438</td> <td> 2.51e+06</td> <td> 3.41e-06</td> <td> 1.000</td> <td>-4.91e+06  4.91e+06</td>\n",
       "</tr>\n",
       "<tr>\n",
       "  <th>New+York</th>      <td>    9.8201</td> <td> 2.51e+06</td> <td> 3.92e-06</td> <td> 1.000</td> <td>-4.91e+06  4.91e+06</td>\n",
       "</tr>\n",
       "<tr>\n",
       "  <th>Palo+Alto</th>     <td>   11.0183</td> <td> 2.51e+06</td> <td>  4.4e-06</td> <td> 1.000</td> <td>-4.91e+06  4.91e+06</td>\n",
       "</tr>\n",
       "<tr>\n",
       "  <th>Philadelphia</th>  <td>   10.7129</td> <td> 2.51e+06</td> <td> 4.28e-06</td> <td> 1.000</td> <td>-4.91e+06  4.91e+06</td>\n",
       "</tr>\n",
       "<tr>\n",
       "  <th>Phoenix</th>       <td>   -8.7402</td> <td> 2.51e+06</td> <td>-3.49e-06</td> <td> 1.000</td> <td>-4.91e+06  4.91e+06</td>\n",
       "</tr>\n",
       "<tr>\n",
       "  <th>Pittsburgh</th>    <td>  -59.2228</td> <td> 3.87e+14</td> <td>-1.53e-13</td> <td> 1.000</td> <td>-7.58e+14  7.58e+14</td>\n",
       "</tr>\n",
       "<tr>\n",
       "  <th>Portland</th>      <td>  -22.9200</td> <td> 1.54e+07</td> <td>-1.49e-06</td> <td> 1.000</td> <td>-3.02e+07  3.02e+07</td>\n",
       "</tr>\n",
       "<tr>\n",
       "  <th>San+Diego</th>     <td>    9.7478</td> <td> 2.51e+06</td> <td> 3.89e-06</td> <td> 1.000</td> <td>-4.91e+06  4.91e+06</td>\n",
       "</tr>\n",
       "<tr>\n",
       "  <th>San+Francisco</th> <td>   11.2793</td> <td> 2.51e+06</td> <td>  4.5e-06</td> <td> 1.000</td> <td>-4.91e+06  4.91e+06</td>\n",
       "</tr>\n",
       "<tr>\n",
       "  <th>Seattle</th>       <td>   10.1533</td> <td> 2.51e+06</td> <td> 4.05e-06</td> <td> 1.000</td> <td>-4.91e+06  4.91e+06</td>\n",
       "</tr>\n",
       "<tr>\n",
       "  <th>const</th>         <td>  -10.1533</td> <td> 2.51e+06</td> <td>-4.05e-06</td> <td> 1.000</td> <td>-4.91e+06  4.91e+06</td>\n",
       "</tr>\n",
       "</table>"
      ],
      "text/plain": [
       "<class 'statsmodels.iolib.summary.Summary'>\n",
       "\"\"\"\n",
       "                           Logit Regression Results                           \n",
       "==============================================================================\n",
       "Dep. Variable:               high_low   No. Observations:                  413\n",
       "Model:                          Logit   Df Residuals:                      395\n",
       "Method:                           MLE   Df Model:                           17\n",
       "Date:                Sat, 14 Jan 2017   Pseudo R-squ.:                  0.1422\n",
       "Time:                        20:14:34   Log-Likelihood:                -245.26\n",
       "converged:                      False   LL-Null:                       -285.92\n",
       "                                        LLR p-value:                 2.234e-10\n",
       "=================================================================================\n",
       "                    coef    std err          z      P>|z|      [95.0% Conf. Int.]\n",
       "---------------------------------------------------------------------------------\n",
       "Atlanta           8.8315   2.51e+06   3.52e-06      1.000     -4.91e+06  4.91e+06\n",
       "Austin            9.8656   2.51e+06   3.94e-06      1.000     -4.91e+06  4.91e+06\n",
       "Boston           10.9110   2.51e+06   4.35e-06      1.000     -4.91e+06  4.91e+06\n",
       "Chicago          10.2645   2.51e+06    4.1e-06      1.000     -4.91e+06  4.91e+06\n",
       "Dallas            9.4601   2.51e+06   3.78e-06      1.000     -4.91e+06  4.91e+06\n",
       "Denver            8.6128   2.51e+06   3.44e-06      1.000     -4.91e+06  4.91e+06\n",
       "Houston         -58.6093   2.85e+14  -2.06e-13      1.000     -5.58e+14  5.58e+14\n",
       "Los+Angeles      10.1533   2.51e+06   4.05e-06      1.000     -4.91e+06  4.91e+06\n",
       "Miami             8.5438   2.51e+06   3.41e-06      1.000     -4.91e+06  4.91e+06\n",
       "New+York          9.8201   2.51e+06   3.92e-06      1.000     -4.91e+06  4.91e+06\n",
       "Palo+Alto        11.0183   2.51e+06    4.4e-06      1.000     -4.91e+06  4.91e+06\n",
       "Philadelphia     10.7129   2.51e+06   4.28e-06      1.000     -4.91e+06  4.91e+06\n",
       "Phoenix          -8.7402   2.51e+06  -3.49e-06      1.000     -4.91e+06  4.91e+06\n",
       "Pittsburgh      -59.2228   3.87e+14  -1.53e-13      1.000     -7.58e+14  7.58e+14\n",
       "Portland        -22.9200   1.54e+07  -1.49e-06      1.000     -3.02e+07  3.02e+07\n",
       "San+Diego         9.7478   2.51e+06   3.89e-06      1.000     -4.91e+06  4.91e+06\n",
       "San+Francisco    11.2793   2.51e+06    4.5e-06      1.000     -4.91e+06  4.91e+06\n",
       "Seattle          10.1533   2.51e+06   4.05e-06      1.000     -4.91e+06  4.91e+06\n",
       "const           -10.1533   2.51e+06  -4.05e-06      1.000     -4.91e+06  4.91e+06\n",
       "=================================================================================\n",
       "\"\"\""
      ]
     },
     "execution_count": 49,
     "metadata": {},
     "output_type": "execute_result"
    }
   ],
   "source": [
    "print \"Model Accuracy: \",np.mean([int(i) for i in list((logistic_model.predict(X) > 0.5) == y)])\n",
    "logistic_model.summary()"
   ]
  },
  {
   "cell_type": "markdown",
   "metadata": {
    "focus": false,
    "id": "0ef04f32-419c-4bf2-baf7-48201f03df89"
   },
   "source": [
    "#### Create a few new variables in your dataframe to represent interesting features of a job title.\n",
    "- For example, create a feature that represents whether 'Senior' is in the title \n",
    "- or whether 'Manager' is in the title. \n",
    "- Then build a new Logistic Regression model with these features. Do they add any value? \n"
   ]
  },
  {
   "cell_type": "code",
   "execution_count": 73,
   "metadata": {
    "collapsed": false,
    "focus": false,
    "id": "068dc1cf-7fd7-4f27-a1f1-7f0a5a221d29"
   },
   "outputs": [
    {
     "name": "stdout",
     "output_type": "stream",
     "text": [
      "Warning: Maximum number of iterations has been exceeded.\n",
      "         Current function value: 0.505026\n",
      "         Iterations: 35\n"
     ]
    },
    {
     "name": "stderr",
     "output_type": "stream",
     "text": [
      "/Users/dsanford/anaconda/lib/python2.7/site-packages/statsmodels/base/model.py:466: ConvergenceWarning: Maximum Likelihood optimization failed to converge. Check mle_retvals\n",
      "  \"Check mle_retvals\", ConvergenceWarning)\n"
     ]
    }
   ],
   "source": [
    "## YOUR CODE HERE\n",
    "y = jobs[\"high_low\"]\n",
    "X = pd.get_dummies(jobs[\"city\"],columns=[\"city\"])\n",
    "X = sm.add_constant(X, prepend=False)\n",
    "X[\"Senior\"] = jobs[\"title\"].apply(lambda x:int(\"Senior\" in x ))\n",
    "X[\"Manager\"] = jobs[\"title\"].apply(lambda x:int(\"Manager\" in x))\n",
    "X[\"Lead\"] = jobs[\"title\"].apply(lambda x:int(\"Lead\" in x))\n",
    "X[\"Data Scientist\"] = jobs[\"title\"].apply(lambda x:int(\"Data Scientist\" in x))\n",
    "X[\"Data Analyst\"] = jobs[\"title\"].apply(lambda x:int(\"Data Analyst\" in x))\n",
    "X[\"Statistician\"] = jobs[\"title\"].apply(lambda x:int(\"Statistician\" in x))\n",
    "logistic_model = sm.Logit(endog=y,exog=X).fit()"
   ]
  },
  {
   "cell_type": "code",
   "execution_count": 74,
   "metadata": {
    "collapsed": false
   },
   "outputs": [
    {
     "name": "stdout",
     "output_type": "stream",
     "text": [
      "Model Accuracy:  0.760290556901\n"
     ]
    },
    {
     "data": {
      "text/html": [
       "<table class=\"simpletable\">\n",
       "<caption>Logit Regression Results</caption>\n",
       "<tr>\n",
       "  <th>Dep. Variable:</th>     <td>high_low</td>     <th>  No. Observations:  </th>  <td>   413</td>  \n",
       "</tr>\n",
       "<tr>\n",
       "  <th>Model:</th>               <td>Logit</td>      <th>  Df Residuals:      </th>  <td>   389</td>  \n",
       "</tr>\n",
       "<tr>\n",
       "  <th>Method:</th>               <td>MLE</td>       <th>  Df Model:          </th>  <td>    23</td>  \n",
       "</tr>\n",
       "<tr>\n",
       "  <th>Date:</th>          <td>Sat, 14 Jan 2017</td> <th>  Pseudo R-squ.:     </th>  <td>0.2705</td>  \n",
       "</tr>\n",
       "<tr>\n",
       "  <th>Time:</th>              <td>20:22:45</td>     <th>  Log-Likelihood:    </th> <td> -208.58</td> \n",
       "</tr>\n",
       "<tr>\n",
       "  <th>converged:</th>           <td>False</td>      <th>  LL-Null:           </th> <td> -285.92</td> \n",
       "</tr>\n",
       "<tr>\n",
       "  <th> </th>                      <td> </td>        <th>  LLR p-value:       </th> <td>1.680e-21</td>\n",
       "</tr>\n",
       "</table>\n",
       "<table class=\"simpletable\">\n",
       "<tr>\n",
       "         <td></td>           <th>coef</th>     <th>std err</th>      <th>z</th>      <th>P>|z|</th> <th>[95.0% Conf. Int.]</th> \n",
       "</tr>\n",
       "<tr>\n",
       "  <th>Atlanta</th>        <td>    4.3549</td> <td> 6.64e+06</td> <td> 6.56e-07</td> <td> 1.000</td> <td> -1.3e+07   1.3e+07</td>\n",
       "</tr>\n",
       "<tr>\n",
       "  <th>Austin</th>         <td>    4.4657</td> <td> 6.64e+06</td> <td> 6.72e-07</td> <td> 1.000</td> <td> -1.3e+07   1.3e+07</td>\n",
       "</tr>\n",
       "<tr>\n",
       "  <th>Boston</th>         <td>    5.9267</td> <td> 6.64e+06</td> <td> 8.92e-07</td> <td> 1.000</td> <td> -1.3e+07   1.3e+07</td>\n",
       "</tr>\n",
       "<tr>\n",
       "  <th>Chicago</th>        <td>    5.2570</td> <td> 6.64e+06</td> <td> 7.91e-07</td> <td> 1.000</td> <td> -1.3e+07   1.3e+07</td>\n",
       "</tr>\n",
       "<tr>\n",
       "  <th>Dallas</th>         <td>    4.7315</td> <td> 6.64e+06</td> <td> 7.12e-07</td> <td> 1.000</td> <td> -1.3e+07   1.3e+07</td>\n",
       "</tr>\n",
       "<tr>\n",
       "  <th>Denver</th>         <td>    3.8265</td> <td> 6.64e+06</td> <td> 5.76e-07</td> <td> 1.000</td> <td> -1.3e+07   1.3e+07</td>\n",
       "</tr>\n",
       "<tr>\n",
       "  <th>Houston</th>        <td>  -16.6356</td> <td> 6.64e+06</td> <td> -2.5e-06</td> <td> 1.000</td> <td> -1.3e+07   1.3e+07</td>\n",
       "</tr>\n",
       "<tr>\n",
       "  <th>Los+Angeles</th>    <td>    5.6299</td> <td> 6.64e+06</td> <td> 8.47e-07</td> <td> 1.000</td> <td> -1.3e+07   1.3e+07</td>\n",
       "</tr>\n",
       "<tr>\n",
       "  <th>Miami</th>          <td>    3.5008</td> <td> 6.64e+06</td> <td> 5.27e-07</td> <td> 1.000</td> <td> -1.3e+07   1.3e+07</td>\n",
       "</tr>\n",
       "<tr>\n",
       "  <th>New+York</th>       <td>    4.8920</td> <td> 6.64e+06</td> <td> 7.36e-07</td> <td> 1.000</td> <td> -1.3e+07   1.3e+07</td>\n",
       "</tr>\n",
       "<tr>\n",
       "  <th>Palo+Alto</th>      <td>    5.7779</td> <td> 6.64e+06</td> <td>  8.7e-07</td> <td> 1.000</td> <td> -1.3e+07   1.3e+07</td>\n",
       "</tr>\n",
       "<tr>\n",
       "  <th>Philadelphia</th>   <td>    5.5506</td> <td> 6.64e+06</td> <td> 8.36e-07</td> <td> 1.000</td> <td> -1.3e+07   1.3e+07</td>\n",
       "</tr>\n",
       "<tr>\n",
       "  <th>Phoenix</th>        <td>  -15.7812</td> <td> 6.64e+06</td> <td>-2.38e-06</td> <td> 1.000</td> <td> -1.3e+07   1.3e+07</td>\n",
       "</tr>\n",
       "<tr>\n",
       "  <th>Pittsburgh</th>     <td>  -21.8786</td> <td> 6.65e+06</td> <td>-3.29e-06</td> <td> 1.000</td> <td> -1.3e+07   1.3e+07</td>\n",
       "</tr>\n",
       "<tr>\n",
       "  <th>Portland</th>       <td>  -21.5790</td> <td> 6.67e+06</td> <td>-3.24e-06</td> <td> 1.000</td> <td>-1.31e+07  1.31e+07</td>\n",
       "</tr>\n",
       "<tr>\n",
       "  <th>San+Diego</th>      <td>    5.0313</td> <td> 6.64e+06</td> <td> 7.57e-07</td> <td> 1.000</td> <td> -1.3e+07   1.3e+07</td>\n",
       "</tr>\n",
       "<tr>\n",
       "  <th>San+Francisco</th>  <td>    6.1513</td> <td> 6.64e+06</td> <td> 9.26e-07</td> <td> 1.000</td> <td> -1.3e+07   1.3e+07</td>\n",
       "</tr>\n",
       "<tr>\n",
       "  <th>Seattle</th>        <td>    5.0104</td> <td> 6.64e+06</td> <td> 7.54e-07</td> <td> 1.000</td> <td> -1.3e+07   1.3e+07</td>\n",
       "</tr>\n",
       "<tr>\n",
       "  <th>const</th>          <td>   -5.7677</td> <td> 6.64e+06</td> <td>-8.68e-07</td> <td> 1.000</td> <td> -1.3e+07   1.3e+07</td>\n",
       "</tr>\n",
       "<tr>\n",
       "  <th>Senior</th>         <td>    0.7937</td> <td>    0.389</td> <td>    2.039</td> <td> 0.041</td> <td>    0.031     1.557</td>\n",
       "</tr>\n",
       "<tr>\n",
       "  <th>Manager</th>        <td>    0.2924</td> <td>    0.475</td> <td>    0.615</td> <td> 0.539</td> <td>   -0.639     1.224</td>\n",
       "</tr>\n",
       "<tr>\n",
       "  <th>Lead</th>           <td>    1.3391</td> <td>    1.103</td> <td>    1.214</td> <td> 0.225</td> <td>   -0.822     3.500</td>\n",
       "</tr>\n",
       "<tr>\n",
       "  <th>Data Scientist</th> <td>    1.9880</td> <td>    0.318</td> <td>    6.251</td> <td> 0.000</td> <td>    1.365     2.611</td>\n",
       "</tr>\n",
       "<tr>\n",
       "  <th>Data Analyst</th>   <td>   -2.4861</td> <td>    1.140</td> <td>   -2.180</td> <td> 0.029</td> <td>   -4.721    -0.251</td>\n",
       "</tr>\n",
       "<tr>\n",
       "  <th>Statistician</th>   <td>   -0.1271</td> <td>    0.622</td> <td>   -0.204</td> <td> 0.838</td> <td>   -1.346     1.092</td>\n",
       "</tr>\n",
       "</table>"
      ],
      "text/plain": [
       "<class 'statsmodels.iolib.summary.Summary'>\n",
       "\"\"\"\n",
       "                           Logit Regression Results                           \n",
       "==============================================================================\n",
       "Dep. Variable:               high_low   No. Observations:                  413\n",
       "Model:                          Logit   Df Residuals:                      389\n",
       "Method:                           MLE   Df Model:                           23\n",
       "Date:                Sat, 14 Jan 2017   Pseudo R-squ.:                  0.2705\n",
       "Time:                        20:22:45   Log-Likelihood:                -208.58\n",
       "converged:                      False   LL-Null:                       -285.92\n",
       "                                        LLR p-value:                 1.680e-21\n",
       "==================================================================================\n",
       "                     coef    std err          z      P>|z|      [95.0% Conf. Int.]\n",
       "----------------------------------------------------------------------------------\n",
       "Atlanta            4.3549   6.64e+06   6.56e-07      1.000      -1.3e+07   1.3e+07\n",
       "Austin             4.4657   6.64e+06   6.72e-07      1.000      -1.3e+07   1.3e+07\n",
       "Boston             5.9267   6.64e+06   8.92e-07      1.000      -1.3e+07   1.3e+07\n",
       "Chicago            5.2570   6.64e+06   7.91e-07      1.000      -1.3e+07   1.3e+07\n",
       "Dallas             4.7315   6.64e+06   7.12e-07      1.000      -1.3e+07   1.3e+07\n",
       "Denver             3.8265   6.64e+06   5.76e-07      1.000      -1.3e+07   1.3e+07\n",
       "Houston          -16.6356   6.64e+06   -2.5e-06      1.000      -1.3e+07   1.3e+07\n",
       "Los+Angeles        5.6299   6.64e+06   8.47e-07      1.000      -1.3e+07   1.3e+07\n",
       "Miami              3.5008   6.64e+06   5.27e-07      1.000      -1.3e+07   1.3e+07\n",
       "New+York           4.8920   6.64e+06   7.36e-07      1.000      -1.3e+07   1.3e+07\n",
       "Palo+Alto          5.7779   6.64e+06    8.7e-07      1.000      -1.3e+07   1.3e+07\n",
       "Philadelphia       5.5506   6.64e+06   8.36e-07      1.000      -1.3e+07   1.3e+07\n",
       "Phoenix          -15.7812   6.64e+06  -2.38e-06      1.000      -1.3e+07   1.3e+07\n",
       "Pittsburgh       -21.8786   6.65e+06  -3.29e-06      1.000      -1.3e+07   1.3e+07\n",
       "Portland         -21.5790   6.67e+06  -3.24e-06      1.000     -1.31e+07  1.31e+07\n",
       "San+Diego          5.0313   6.64e+06   7.57e-07      1.000      -1.3e+07   1.3e+07\n",
       "San+Francisco      6.1513   6.64e+06   9.26e-07      1.000      -1.3e+07   1.3e+07\n",
       "Seattle            5.0104   6.64e+06   7.54e-07      1.000      -1.3e+07   1.3e+07\n",
       "const             -5.7677   6.64e+06  -8.68e-07      1.000      -1.3e+07   1.3e+07\n",
       "Senior             0.7937      0.389      2.039      0.041         0.031     1.557\n",
       "Manager            0.2924      0.475      0.615      0.539        -0.639     1.224\n",
       "Lead               1.3391      1.103      1.214      0.225        -0.822     3.500\n",
       "Data Scientist     1.9880      0.318      6.251      0.000         1.365     2.611\n",
       "Data Analyst      -2.4861      1.140     -2.180      0.029        -4.721    -0.251\n",
       "Statistician      -0.1271      0.622     -0.204      0.838        -1.346     1.092\n",
       "==================================================================================\n",
       "\"\"\""
      ]
     },
     "execution_count": 74,
     "metadata": {},
     "output_type": "execute_result"
    }
   ],
   "source": [
    "print \"Model Accuracy: \",np.mean([int(i) for i in list((logistic_model.predict(X) > 0.5) == y)])\n",
    "logistic_model.summary()"
   ]
  },
  {
   "cell_type": "markdown",
   "metadata": {
    "focus": false,
    "id": "9c9274ef-c9f5-4d56-b286-ecc8709eff9f"
   },
   "source": [
    "#### Rebuild this model with scikit-learn.\n",
    "- You can either create the dummy features manually or use the `dmatrix` function from `patsy`\n",
    "- Remember to scale the feature variables as well!\n"
   ]
  },
  {
   "cell_type": "code",
   "execution_count": 92,
   "metadata": {
    "collapsed": false
   },
   "outputs": [
    {
     "name": "stdout",
     "output_type": "stream",
     "text": [
      "Model Accuracy:  0.661016949153\n"
     ]
    }
   ],
   "source": [
    "y = jobs[\"high_low\"]\n",
    "X = pd.get_dummies(jobs[\"city\"],columns=[\"city\"])\n",
    "X = sm.add_constant(X, prepend=False)\n",
    "logistic_model = LogisticRegression().fit(X,y)\n",
    "print \"Model Accuracy: \",logistic_model.score(X,y)"
   ]
  },
  {
   "cell_type": "code",
   "execution_count": 93,
   "metadata": {
    "collapsed": false
   },
   "outputs": [
    {
     "name": "stdout",
     "output_type": "stream",
     "text": [
      "Model Accuracy:  0.760290556901\n"
     ]
    }
   ],
   "source": [
    "y = jobs[\"high_low\"]\n",
    "X = pd.get_dummies(jobs[\"city\"],columns=[\"city\"])\n",
    "X = sm.add_constant(X, prepend=False)\n",
    "X[\"Senior\"] = jobs[\"title\"].apply(lambda x:int(\"Senior\" in x ))\n",
    "X[\"Manager\"] = jobs[\"title\"].apply(lambda x:int(\"Manager\" in x))\n",
    "X[\"Lead\"] = jobs[\"title\"].apply(lambda x:int(\"Lead\" in x))\n",
    "X[\"Data Scientist\"] = jobs[\"title\"].apply(lambda x:int(\"Data Scientist\" in x))\n",
    "X[\"Data Analyst\"] = jobs[\"title\"].apply(lambda x:int(\"Data Analyst\" in x))\n",
    "X[\"Statistician\"] = jobs[\"title\"].apply(lambda x:int(\"Statistician\" in x))\n",
    "logistic_model = LogisticRegression().fit(X,y)\n",
    "print \"Model Accuracy: \",logistic_model.score(X,y)"
   ]
  },
  {
   "cell_type": "markdown",
   "metadata": {
    "focus": false,
    "id": "9367beff-72ba-4768-a0ba-a50b335de61d"
   },
   "source": [
    "#### Use cross-validation in scikit-learn to evaluate the model above. \n",
    "- Evaluate the accuracy, AUC, precision and recall of the model. \n",
    "- Discuss the differences and explain when you want a high-recall or a high-precision model in this scenario."
   ]
  },
  {
   "cell_type": "code",
   "execution_count": 116,
   "metadata": {
    "collapsed": false,
    "focus": false,
    "id": "269b9e7c-60b5-4a06-8255-881d7395bc1b"
   },
   "outputs": [
    {
     "name": "stdout",
     "output_type": "stream",
     "text": [
      "Accuracy metrics for 10-fold cross-validation\n",
      "Accuracy    0.706611498258\n",
      "ROC AUC     0.7269628617\n",
      "Precision   0.806760739261\n",
      "Recall      0.515526315789\n"
     ]
    }
   ],
   "source": [
    "## YOUR CODE HERE\n",
    "from sklearn.metrics import accuracy_score\n",
    "from sklearn.metrics import roc_auc_score\n",
    "from sklearn.metrics import precision_score\n",
    "from sklearn.metrics import recall_score\n",
    "\n",
    "print \"Accuracy metrics for 10-fold cross-validation\"\n",
    "print \"Accuracy   \",np.mean(cross_val_score(LogisticRegressionCV(penalty='l1',solver='liblinear'),\n",
    "                                            X,y,cv=10,scoring='accuracy'))\n",
    "print \"ROC AUC    \",np.mean(cross_val_score(LogisticRegressionCV(penalty='l1',solver='liblinear'),\n",
    "                                            X,y,cv=10,scoring='roc_auc'))\n",
    "print \"Precision  \",np.mean(cross_val_score(LogisticRegressionCV(penalty='l1',solver='liblinear'),\n",
    "                                            X,y,cv=10,scoring='precision'))\n",
    "print \"Recall     \",np.mean(cross_val_score(LogisticRegressionCV(penalty='l1',solver='liblinear'),\n",
    "                                            X,y,cv=10,scoring='recall'))\n"
   ]
  },
  {
   "cell_type": "markdown",
   "metadata": {
    "focus": false,
    "id": "8c22664b-92e4-4fc2-b7ac-fbac865845d3"
   },
   "source": [
    "#### Compare L1 and L2 regularization for this logistic regression model. What effect does this have on the coefficients learned?"
   ]
  },
  {
   "cell_type": "code",
   "execution_count": 21,
   "metadata": {
    "collapsed": false,
    "focus": false,
    "id": "172fd952-5012-4630-81f4-1206da6eb820"
   },
   "outputs": [],
   "source": [
    "## YOUR CODE HERE\n"
   ]
  },
  {
   "cell_type": "code",
   "execution_count": 22,
   "metadata": {
    "collapsed": false,
    "focus": false,
    "id": "56cc8854-d722-411d-a6c7-e86310710f67"
   },
   "outputs": [],
   "source": [
    "## YOUR CODE HERE"
   ]
  },
  {
   "cell_type": "markdown",
   "metadata": {
    "focus": false,
    "id": "fead9b5b-7316-405d-87fd-e144dff0cbeb"
   },
   "source": [
    "#### Continue to incorporate other text features from the title or summary that you believe will predict the salary and examine their coefficients"
   ]
  },
  {
   "cell_type": "markdown",
   "metadata": {
    "focus": false,
    "id": "3be94357-e551-4094-b784-2df039216d33"
   },
   "source": [
    "### BONUS "
   ]
  },
  {
   "cell_type": "markdown",
   "metadata": {
    "focus": false,
    "id": "db045898-1d2d-4af2-8e79-437c4c7546b4"
   },
   "source": [
    "#### Bonus: Use Count Vectorizer from scikit-learn to create features from the text summaries. \n",
    "- Examine using count or binary features in the model\n",
    "- Re-evaluate the logistic regression model using these. Does this improve the model performance? \n",
    "- What text features are the most valuable? "
   ]
  },
  {
   "cell_type": "code",
   "execution_count": 319,
   "metadata": {
    "collapsed": false,
    "focus": false,
    "id": "4239e458-28bd-4675-8db3-c1d9c02b9854"
   },
   "outputs": [],
   "source": [
    "## YOUR CODE HERE\n",
    "from  sklearn.feature_extraction.text import CountVectorizer\n",
    "\n",
    "tokenizer = CountVectorizer().build_tokenizer()\n",
    "tokenizer(\"hi, I'm a tokenizer\")\n",
    "jobs[\"summary\"].apply(tokenizer)\n",
    "\n",
    "#jobs[\"summary\"].apply(CountVectorizer())\n",
    "test = CountVectorizer().fit([\"hi, I'm a tokenizer\"])\n",
    "test."
   ]
  },
  {
   "cell_type": "code",
   "execution_count": 25,
   "metadata": {
    "collapsed": false
   },
   "outputs": [
    {
     "name": "stdout",
     "output_type": "stream",
     "text": [
      "121 35\n"
     ]
    }
   ],
   "source": [
    "print len(summary_cut),len(title_cut)"
   ]
  },
  {
   "cell_type": "markdown",
   "metadata": {
    "collapsed": false
   },
   "source": [
    "jobs[\"summary_list\"] = jobs[\"summary\"].apply(str.split)\n",
    "jobs[\"title_list\"] = jobs[\"summary\"].apply(str.split)\n",
    "summary_entries = list(set([l for sublist in list(jobs[\"summary_list\"]) for l in sublist]))\n",
    "title_entries = list(set([l for sublist in list(jobs[\"title_list\"]) for l in sublist]))\n",
    "\n",
    "min_entries = 10\n",
    "cut_threshold = 0.1\n",
    "\n",
    "summary_cut = [word for word in summary_entries if (jobs[jobs[\"summary\"].apply(lambda x:word in x)].shape[0] > min_entries and\n",
    "    abs(jobs[jobs[\"summary\"].apply(lambda x:word in x)][\"high_low\"].mean() - baseline_accuracy) > cut_threshold)]\n",
    "\n",
    "title_cut = [word for word in title_entries if (jobs[jobs[\"title\"].apply(lambda x:word in x)].shape[0] > min_entries and\n",
    "    abs(jobs[jobs[\"title\"].apply(lambda x:word in x)][\"high_low\"].mean() - baseline_accuracy) > cut_threshold)]"
   ]
  },
  {
   "cell_type": "code",
   "execution_count": 229,
   "metadata": {
    "collapsed": false
   },
   "outputs": [],
   "source": [
    "y = jobs[\"high_low\"]\n",
    "X = pd.get_dummies(jobs[\"city\"],columns=[\"city\"])\n",
    "for word in summary_cut:\n",
    "    X[\"summary_\"+word] = jobs[\"summary\"].apply(lambda x:int(word in x))\n",
    "    \n",
    "for word in title_cut:\n",
    "    X[\"title_\"+word] = jobs[\"title\"].apply(lambda x:int(word in x))"
   ]
  },
  {
   "cell_type": "code",
   "execution_count": 24,
   "metadata": {
    "collapsed": false,
    "focus": false,
    "id": "fec80936-37bc-4922-89bd-b5d615566c9c"
   },
   "outputs": [],
   "source": [
    "## YOUR CODE HERE"
   ]
  },
  {
   "cell_type": "markdown",
   "metadata": {
    "focus": false,
    "id": "d42b9fd8-39d5-416a-b40b-7410e6396c11"
   },
   "source": [
    "#### Re-test L1 and L2 regularization. You can use LogisticRegressionCV to find the optimal reguarlization parameters. \n",
    "- Re-test what text features are most valuable.  \n",
    "- How do L1 and L2 change the coefficients?"
   ]
  },
  {
   "cell_type": "code",
   "execution_count": 25,
   "metadata": {
    "collapsed": false,
    "focus": false,
    "id": "7570e237-c8cc-4e26-b569-7aee10627e79"
   },
   "outputs": [],
   "source": [
    "## YOUR CODE HERE"
   ]
  },
  {
   "cell_type": "code",
   "execution_count": null,
   "metadata": {
    "collapsed": true,
    "focus": false,
    "id": "e3a0c83d-e3b8-4bed-b864-7e795b34a3d4"
   },
   "outputs": [],
   "source": []
  }
 ],
 "metadata": {
  "anaconda-cloud": {},
  "kernelspec": {
   "display_name": "Python [default]",
   "language": "python",
   "name": "python2"
  },
  "language_info": {
   "codemirror_mode": {
    "name": "ipython",
    "version": 2
   },
   "file_extension": ".py",
   "mimetype": "text/x-python",
   "name": "python",
   "nbconvert_exporter": "python",
   "pygments_lexer": "ipython2",
   "version": "2.7.12"
  }
 },
 "nbformat": 4,
 "nbformat_minor": 0
}
